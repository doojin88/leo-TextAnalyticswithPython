{
 "cells": [
  {
   "cell_type": "code",
   "execution_count": 1,
   "metadata": {},
   "outputs": [],
   "source": [
    "%matplotlib inline"
   ]
  },
  {
   "cell_type": "markdown",
   "metadata": {},
   "source": [
    "# Text Similarity"
   ]
  },
  {
   "cell_type": "markdown",
   "metadata": {},
   "source": [
    "\n",
    "Intent of text similarity : \n",
    "- Lexical similarity\n",
    "- Semantic similarity\n",
    "\n",
    "\n",
    "Using Bag of Words (BOW) : \n",
    "- term similarity\n",
    "- document similarity"
   ]
  },
  {
   "cell_type": "markdown",
   "metadata": {},
   "source": [
    "# Term Similarity\n",
    "\n",
    "several applications and use-cases like autocompleters, spell check, and correctors \n",
    "use some of these techniques to correct misspelled terms."
   ]
  },
  {
   "cell_type": "markdown",
   "metadata": {},
   "source": [
    "\n",
    "## Bag of Characters Verctorization\n"
   ]
  },
  {
   "cell_type": "code",
   "execution_count": 2,
   "metadata": {},
   "outputs": [],
   "source": [
    "import numpy as np\n",
    "from scipy.stats import itemfreq"
   ]
  },
  {
   "cell_type": "code",
   "execution_count": 3,
   "metadata": {},
   "outputs": [],
   "source": [
    "def vectorize_terms(terms):\n",
    "    terms = [term.lower() for term in terms]\n",
    "    terms = [np.array(list(term)) for term in terms]\n",
    "    terms = [np.array([ord(char) for char in term]) for term in terms]\n",
    "    return terms"
   ]
  },
  {
   "cell_type": "code",
   "execution_count": 4,
   "metadata": {},
   "outputs": [
    {
     "name": "stdout",
     "output_type": "stream",
     "text": [
      "\n",
      "root: [ 98 101 108 105 101 118 101]\n",
      "term1: [ 98 101 108 101 105 118 101]\n",
      "term2: [ 98  97 114 103  97 105 110]\n",
      "term3: [101 108 101 112 104  97 110 116]\n",
      "\n"
     ]
    }
   ],
   "source": [
    "root = 'Believe'\n",
    "term1 = 'beleive'\n",
    "term2 = 'bargain'\n",
    "term3 = 'Elephant'    \n",
    "\n",
    "terms = [root, term1, term2, term3]\n",
    "\n",
    "vec_root, vec_term1, vec_term2, vec_term3 = vectorize_terms(terms)\n",
    "print ('''\n",
    "root: {}\n",
    "term1: {}\n",
    "term2: {}\n",
    "term3: {}\n",
    "'''.format(vec_root, vec_term1, vec_term2, vec_term3))"
   ]
  },
  {
   "cell_type": "code",
   "execution_count": 5,
   "metadata": {},
   "outputs": [
    {
     "name": "stdout",
     "output_type": "stream",
     "text": [
      "b = 98, e = 101\n"
     ]
    }
   ],
   "source": [
    "print('b = {}, e = {}'.format(ord('b'),ord('e')))"
   ]
  },
  {
   "cell_type": "markdown",
   "metadata": {},
   "source": [
    "## Bag of Characters vectorization\n",
    "\n",
    "Bag of Characters vectorization is very similar to the Bag of Words model except here we compute the frequency of each character in the word. \n",
    "\n",
    "Sequence or word orders are not taken into account. The following function helps in computing this:"
   ]
  },
  {
   "cell_type": "code",
   "execution_count": 6,
   "metadata": {},
   "outputs": [],
   "source": [
    "def boc_term_vectors(word_list):\n",
    "    word_list = [word.lower() for word in word_list]\n",
    "    unique_chars = np.unique(\n",
    "                        np.hstack([list(word)\n",
    "                        for word in word_list]))\n",
    "    word_list_term_counts = [{char: count for char, count in itemfreq(list(word))}\n",
    "                             for word in word_list]\n",
    "\n",
    "    boc_vectors = [np.array([int(word_term_counts.get(char, 0))\n",
    "                            for char in unique_chars])\n",
    "                   for word_term_counts in word_list_term_counts]\n",
    "    return list(unique_chars), boc_vectors"
   ]
  },
  {
   "cell_type": "code",
   "execution_count": 7,
   "metadata": {},
   "outputs": [
    {
     "name": "stdout",
     "output_type": "stream",
     "text": [
      "Features: ['a', 'b', 'e', 'g', 'h', 'i', 'l', 'n', 'p', 'r', 't', 'v']\n",
      "\n",
      "root: [0 1 3 0 0 1 1 0 0 0 0 1]\n",
      "term1: [0 1 3 0 0 1 1 0 0 0 0 1]\n",
      "term2: [2 1 0 1 0 1 0 1 0 1 0 0]\n",
      "term3: [1 0 2 0 1 0 1 1 1 0 1 0]\n",
      "\n"
     ]
    },
    {
     "name": "stderr",
     "output_type": "stream",
     "text": [
      "/Users/leo/anaconda3/envs/py36/lib/python3.6/site-packages/ipykernel_launcher.py:7: DeprecationWarning: `itemfreq` is deprecated!\n",
      "`itemfreq` is deprecated and will be removed in a future version. Use instead `np.unique(..., return_counts=True)`\n",
      "  import sys\n"
     ]
    }
   ],
   "source": [
    "root = 'Believe'\n",
    "term1 = 'beleive'\n",
    "term2 = 'bargain'\n",
    "term3 = 'Elephant'    \n",
    "\n",
    "terms = [root, term1, term2, term3]\n",
    "\n",
    "features, (boc_root, boc_term1, boc_term2, boc_term3) = boc_term_vectors(terms)\n",
    "print ('Features:', features)\n",
    "print ('''\n",
    "root: {}\n",
    "term1: {}\n",
    "term2: {}\n",
    "term3: {}\n",
    "'''.format(boc_root, boc_term1, boc_term2, boc_term3))"
   ]
  },
  {
   "cell_type": "markdown",
   "metadata": {},
   "source": [
    "# Distance :\n",
    "\n",
    "- Hamming distance\n",
    "- Manhattan distance\n",
    "- Euclidean distance\n",
    "- Levenshtein distance\n",
    "- Cosine distance and similarity\n",
    "\n",
    "참고 : \n",
    "- https://www.slideshare.net/smanjunath1/similarity-measures\n",
    "- https://www.slideshare.net/khusuma/distance-function\n",
    "- https://medium.com/@adriensieg/text-similarities-da019229c894\n",
    "- http://dataaspirant.com/2015/04/11/five-most-popular-similarity-measures-implementation-in-python/\n"
   ]
  },
  {
   "cell_type": "markdown",
   "metadata": {},
   "source": [
    "# Hamming Distance\n",
    "\n",
    "참고 : https://en.wikipedia.org/wiki/Hamming_distance\n",
    "\n",
    "u, v : term of length n,\n",
    "\n",
    "Hammding Distance :\n",
    "$$\n",
    "\\large hd(u,v) = \\sum_{i=1}^{n}(u_i \\ne v_i)\n",
    "$$\n",
    "\n",
    "Normalized Hamming Distance :\n",
    "$$\n",
    "\\large norm\\_hd(u,v) = \\frac{\\sum_{i=1}^{n}{(u_i \\ne v_i)}}{n}\n",
    "$$"
   ]
  },
  {
   "cell_type": "code",
   "execution_count": 8,
   "metadata": {},
   "outputs": [],
   "source": [
    "root_term = root\n",
    "root_vector = vec_root\n",
    "root_boc_vector = boc_root\n",
    "\n",
    "terms = [term1, term2, term3]\n",
    "vector_terms = [vec_term1, vec_term2, vec_term3]\n",
    "boc_vector_terms = [boc_term1, boc_term2, boc_term3]"
   ]
  },
  {
   "cell_type": "code",
   "execution_count": 9,
   "metadata": {},
   "outputs": [],
   "source": [
    "def hamming_distance(u, v, norm=False):\n",
    "    if u.shape != v.shape:\n",
    "        raise ValueError('The vectors must have equal lengths.')\n",
    "    return (u != v).sum() if not norm else (u != v).mean()"
   ]
  },
  {
   "cell_type": "code",
   "execution_count": 10,
   "metadata": {},
   "outputs": [
    {
     "name": "stdout",
     "output_type": "stream",
     "text": [
      "root_vector=[ 98 101 108 105 101 118 101]\n",
      "vec_term1  =[ 98 101 108 101 105 118 101]\n"
     ]
    }
   ],
   "source": [
    "print('root_vector={}'.format(root_vector))\n",
    "print('vec_term1  ={}'.format(vec_term1))"
   ]
  },
  {
   "cell_type": "code",
   "execution_count": 11,
   "metadata": {},
   "outputs": [
    {
     "name": "stdout",
     "output_type": "stream",
     "text": [
      "Hamming distance between root: Believe and term: beleive is 2\n",
      "Hamming distance between root: Believe and term: bargain is 6\n"
     ]
    },
    {
     "ename": "ValueError",
     "evalue": "The vectors must have equal lengths.",
     "output_type": "error",
     "traceback": [
      "\u001b[0;31m---------------------------------------------------------------------------\u001b[0m",
      "\u001b[0;31mValueError\u001b[0m                                Traceback (most recent call last)",
      "\u001b[0;32m<ipython-input-11-cae2b5e808cf>\u001b[0m in \u001b[0;36m<module>\u001b[0;34m\u001b[0m\n\u001b[1;32m      3\u001b[0m     print ('Hamming distance between root: {} and term: {} is {}'.format(root_term,\n\u001b[1;32m      4\u001b[0m                                                                 \u001b[0mterm\u001b[0m\u001b[0;34m,\u001b[0m\u001b[0;34m\u001b[0m\u001b[0;34m\u001b[0m\u001b[0m\n\u001b[0;32m----> 5\u001b[0;31m                                                                 hamming_distance(root_vector, vector_term, norm=False)))\n\u001b[0m",
      "\u001b[0;32m<ipython-input-9-2034efa805fa>\u001b[0m in \u001b[0;36mhamming_distance\u001b[0;34m(u, v, norm)\u001b[0m\n\u001b[1;32m      1\u001b[0m \u001b[0;32mdef\u001b[0m \u001b[0mhamming_distance\u001b[0m\u001b[0;34m(\u001b[0m\u001b[0mu\u001b[0m\u001b[0;34m,\u001b[0m \u001b[0mv\u001b[0m\u001b[0;34m,\u001b[0m \u001b[0mnorm\u001b[0m\u001b[0;34m=\u001b[0m\u001b[0;32mFalse\u001b[0m\u001b[0;34m)\u001b[0m\u001b[0;34m:\u001b[0m\u001b[0;34m\u001b[0m\u001b[0;34m\u001b[0m\u001b[0m\n\u001b[1;32m      2\u001b[0m     \u001b[0;32mif\u001b[0m \u001b[0mu\u001b[0m\u001b[0;34m.\u001b[0m\u001b[0mshape\u001b[0m \u001b[0;34m!=\u001b[0m \u001b[0mv\u001b[0m\u001b[0;34m.\u001b[0m\u001b[0mshape\u001b[0m\u001b[0;34m:\u001b[0m\u001b[0;34m\u001b[0m\u001b[0;34m\u001b[0m\u001b[0m\n\u001b[0;32m----> 3\u001b[0;31m         \u001b[0;32mraise\u001b[0m \u001b[0mValueError\u001b[0m\u001b[0;34m(\u001b[0m\u001b[0;34m'The vectors must have equal lengths.'\u001b[0m\u001b[0;34m)\u001b[0m\u001b[0;34m\u001b[0m\u001b[0;34m\u001b[0m\u001b[0m\n\u001b[0m\u001b[1;32m      4\u001b[0m     \u001b[0;32mreturn\u001b[0m \u001b[0;34m(\u001b[0m\u001b[0mu\u001b[0m \u001b[0;34m!=\u001b[0m \u001b[0mv\u001b[0m\u001b[0;34m)\u001b[0m\u001b[0;34m.\u001b[0m\u001b[0msum\u001b[0m\u001b[0;34m(\u001b[0m\u001b[0;34m)\u001b[0m \u001b[0;32mif\u001b[0m \u001b[0;32mnot\u001b[0m \u001b[0mnorm\u001b[0m \u001b[0;32melse\u001b[0m \u001b[0;34m(\u001b[0m\u001b[0mu\u001b[0m \u001b[0;34m!=\u001b[0m \u001b[0mv\u001b[0m\u001b[0;34m)\u001b[0m\u001b[0;34m.\u001b[0m\u001b[0mmean\u001b[0m\u001b[0;34m(\u001b[0m\u001b[0;34m)\u001b[0m\u001b[0;34m\u001b[0m\u001b[0;34m\u001b[0m\u001b[0m\n",
      "\u001b[0;31mValueError\u001b[0m: The vectors must have equal lengths."
     ]
    }
   ],
   "source": [
    "# HAMMING DISTANCE DEMO\n",
    "for term, vector_term in zip(terms, vector_terms):\n",
    "    print ('Hamming distance between root: {} and term: {} is {}'.format(root_term,\n",
    "                                                                term,\n",
    "                                                                hamming_distance(root_vector, vector_term, norm=False)))"
   ]
  },
  {
   "cell_type": "code",
   "execution_count": 12,
   "metadata": {},
   "outputs": [
    {
     "name": "stdout",
     "output_type": "stream",
     "text": [
      "Normalized Hamming distance between root: Believe and term: beleive is 0.29\n",
      "Normalized Hamming distance between root: Believe and term: bargain is 0.86\n"
     ]
    },
    {
     "ename": "ValueError",
     "evalue": "The vectors must have equal lengths.",
     "output_type": "error",
     "traceback": [
      "\u001b[0;31m---------------------------------------------------------------------------\u001b[0m",
      "\u001b[0;31mValueError\u001b[0m                                Traceback (most recent call last)",
      "\u001b[0;32m<ipython-input-12-ddf6c5b2cdca>\u001b[0m in \u001b[0;36m<module>\u001b[0;34m\u001b[0m\n\u001b[1;32m      2\u001b[0m     print ('Normalized Hamming distance between root: {} and term: {} is {}'.format(root_term,\n\u001b[1;32m      3\u001b[0m                                                                 \u001b[0mterm\u001b[0m\u001b[0;34m,\u001b[0m\u001b[0;34m\u001b[0m\u001b[0;34m\u001b[0m\u001b[0m\n\u001b[0;32m----> 4\u001b[0;31m                                                                 round(hamming_distance(root_vector, vector_term, norm=True), 2)))\n\u001b[0m",
      "\u001b[0;32m<ipython-input-9-2034efa805fa>\u001b[0m in \u001b[0;36mhamming_distance\u001b[0;34m(u, v, norm)\u001b[0m\n\u001b[1;32m      1\u001b[0m \u001b[0;32mdef\u001b[0m \u001b[0mhamming_distance\u001b[0m\u001b[0;34m(\u001b[0m\u001b[0mu\u001b[0m\u001b[0;34m,\u001b[0m \u001b[0mv\u001b[0m\u001b[0;34m,\u001b[0m \u001b[0mnorm\u001b[0m\u001b[0;34m=\u001b[0m\u001b[0;32mFalse\u001b[0m\u001b[0;34m)\u001b[0m\u001b[0;34m:\u001b[0m\u001b[0;34m\u001b[0m\u001b[0;34m\u001b[0m\u001b[0m\n\u001b[1;32m      2\u001b[0m     \u001b[0;32mif\u001b[0m \u001b[0mu\u001b[0m\u001b[0;34m.\u001b[0m\u001b[0mshape\u001b[0m \u001b[0;34m!=\u001b[0m \u001b[0mv\u001b[0m\u001b[0;34m.\u001b[0m\u001b[0mshape\u001b[0m\u001b[0;34m:\u001b[0m\u001b[0;34m\u001b[0m\u001b[0;34m\u001b[0m\u001b[0m\n\u001b[0;32m----> 3\u001b[0;31m         \u001b[0;32mraise\u001b[0m \u001b[0mValueError\u001b[0m\u001b[0;34m(\u001b[0m\u001b[0;34m'The vectors must have equal lengths.'\u001b[0m\u001b[0;34m)\u001b[0m\u001b[0;34m\u001b[0m\u001b[0;34m\u001b[0m\u001b[0m\n\u001b[0m\u001b[1;32m      4\u001b[0m     \u001b[0;32mreturn\u001b[0m \u001b[0;34m(\u001b[0m\u001b[0mu\u001b[0m \u001b[0;34m!=\u001b[0m \u001b[0mv\u001b[0m\u001b[0;34m)\u001b[0m\u001b[0;34m.\u001b[0m\u001b[0msum\u001b[0m\u001b[0;34m(\u001b[0m\u001b[0;34m)\u001b[0m \u001b[0;32mif\u001b[0m \u001b[0;32mnot\u001b[0m \u001b[0mnorm\u001b[0m \u001b[0;32melse\u001b[0m \u001b[0;34m(\u001b[0m\u001b[0mu\u001b[0m \u001b[0;34m!=\u001b[0m \u001b[0mv\u001b[0m\u001b[0;34m)\u001b[0m\u001b[0;34m.\u001b[0m\u001b[0mmean\u001b[0m\u001b[0;34m(\u001b[0m\u001b[0;34m)\u001b[0m\u001b[0;34m\u001b[0m\u001b[0;34m\u001b[0m\u001b[0m\n",
      "\u001b[0;31mValueError\u001b[0m: The vectors must have equal lengths."
     ]
    }
   ],
   "source": [
    "for term, vector_term in zip(terms, vector_terms):\n",
    "    print ('Normalized Hamming distance between root: {} and term: {} is {}'.format(root_term,\n",
    "                                                                term,\n",
    "                                                                round(hamming_distance(root_vector, vector_term, norm=True), 2)))"
   ]
  },
  {
   "cell_type": "markdown",
   "metadata": {},
   "source": [
    "# Manhattan Distance\n",
    "\n",
    "we subtract the difference between each pair of characters at each position of the two strings. \n",
    "\n",
    "Formally, Manhattan distance is also known as city block distance, L1 norm, taxicab metric and is defined as the distance between two points in a grid based on strictly horizontal or vertical paths instead of the diagonal distance conventionally calculated by the Euclidean distance metric.\n",
    "\n",
    "$$\n",
    "\\Large md(u,v) = || u - v ||_1 = \\sum_{i=1}^{n}{|u_i - v_i|}\n",
    "$$\n",
    "\n",
    "Normalized :\n",
    "\n",
    "$$\n",
    "\\Large norm\\_md(u,v) = \\frac{|| u - v ||_1}{n} = \\frac{\\sum_{i=1}^{n}{|u_i - v_i|} }{n}\n",
    "$$\n"
   ]
  },
  {
   "cell_type": "code",
   "execution_count": 13,
   "metadata": {},
   "outputs": [],
   "source": [
    "def manhattan_distance(u, v, norm=False):\n",
    "    if u.shape != v.shape:\n",
    "        raise ValueError('The vectors must have equal lengths.')\n",
    "    return abs(u - v).sum() if not norm else abs(u - v).mean()"
   ]
  },
  {
   "cell_type": "code",
   "execution_count": 14,
   "metadata": {},
   "outputs": [
    {
     "name": "stdout",
     "output_type": "stream",
     "text": [
      "root_vector=[ 98 101 108 105 101 118 101]\n",
      "vec_term1  =[ 98 101 108 101 105 118 101]\n"
     ]
    }
   ],
   "source": [
    "print('root_vector={}'.format(root_vector))\n",
    "print('vec_term1  ={}'.format(vec_term1))"
   ]
  },
  {
   "cell_type": "code",
   "execution_count": 15,
   "metadata": {},
   "outputs": [
    {
     "name": "stdout",
     "output_type": "stream",
     "text": [
      "Manhattan distance between root: Believe and term: beleive is 8\n",
      "Manhattan distance between root: Believe and term: bargain is 38\n"
     ]
    },
    {
     "ename": "ValueError",
     "evalue": "The vectors must have equal lengths.",
     "output_type": "error",
     "traceback": [
      "\u001b[0;31m---------------------------------------------------------------------------\u001b[0m",
      "\u001b[0;31mValueError\u001b[0m                                Traceback (most recent call last)",
      "\u001b[0;32m<ipython-input-15-4206de54bd79>\u001b[0m in \u001b[0;36m<module>\u001b[0;34m\u001b[0m\n\u001b[1;32m      2\u001b[0m     print('Manhattan distance between root: {} and term: {} is {}'.format(root_term,\n\u001b[1;32m      3\u001b[0m                                                                 \u001b[0mterm\u001b[0m\u001b[0;34m,\u001b[0m\u001b[0;34m\u001b[0m\u001b[0;34m\u001b[0m\u001b[0m\n\u001b[0;32m----> 4\u001b[0;31m                                                                 manhattan_distance(root_vector, vector_term, norm=False)))\n\u001b[0m",
      "\u001b[0;32m<ipython-input-13-f76af5f725e0>\u001b[0m in \u001b[0;36mmanhattan_distance\u001b[0;34m(u, v, norm)\u001b[0m\n\u001b[1;32m      1\u001b[0m \u001b[0;32mdef\u001b[0m \u001b[0mmanhattan_distance\u001b[0m\u001b[0;34m(\u001b[0m\u001b[0mu\u001b[0m\u001b[0;34m,\u001b[0m \u001b[0mv\u001b[0m\u001b[0;34m,\u001b[0m \u001b[0mnorm\u001b[0m\u001b[0;34m=\u001b[0m\u001b[0;32mFalse\u001b[0m\u001b[0;34m)\u001b[0m\u001b[0;34m:\u001b[0m\u001b[0;34m\u001b[0m\u001b[0;34m\u001b[0m\u001b[0m\n\u001b[1;32m      2\u001b[0m     \u001b[0;32mif\u001b[0m \u001b[0mu\u001b[0m\u001b[0;34m.\u001b[0m\u001b[0mshape\u001b[0m \u001b[0;34m!=\u001b[0m \u001b[0mv\u001b[0m\u001b[0;34m.\u001b[0m\u001b[0mshape\u001b[0m\u001b[0;34m:\u001b[0m\u001b[0;34m\u001b[0m\u001b[0;34m\u001b[0m\u001b[0m\n\u001b[0;32m----> 3\u001b[0;31m         \u001b[0;32mraise\u001b[0m \u001b[0mValueError\u001b[0m\u001b[0;34m(\u001b[0m\u001b[0;34m'The vectors must have equal lengths.'\u001b[0m\u001b[0;34m)\u001b[0m\u001b[0;34m\u001b[0m\u001b[0;34m\u001b[0m\u001b[0m\n\u001b[0m\u001b[1;32m      4\u001b[0m     \u001b[0;32mreturn\u001b[0m \u001b[0mabs\u001b[0m\u001b[0;34m(\u001b[0m\u001b[0mu\u001b[0m \u001b[0;34m-\u001b[0m \u001b[0mv\u001b[0m\u001b[0;34m)\u001b[0m\u001b[0;34m.\u001b[0m\u001b[0msum\u001b[0m\u001b[0;34m(\u001b[0m\u001b[0;34m)\u001b[0m \u001b[0;32mif\u001b[0m \u001b[0;32mnot\u001b[0m \u001b[0mnorm\u001b[0m \u001b[0;32melse\u001b[0m \u001b[0mabs\u001b[0m\u001b[0;34m(\u001b[0m\u001b[0mu\u001b[0m \u001b[0;34m-\u001b[0m \u001b[0mv\u001b[0m\u001b[0;34m)\u001b[0m\u001b[0;34m.\u001b[0m\u001b[0mmean\u001b[0m\u001b[0;34m(\u001b[0m\u001b[0;34m)\u001b[0m\u001b[0;34m\u001b[0m\u001b[0;34m\u001b[0m\u001b[0m\n",
      "\u001b[0;31mValueError\u001b[0m: The vectors must have equal lengths."
     ]
    }
   ],
   "source": [
    "for term, vector_term in zip(terms, vector_terms):\n",
    "    print('Manhattan distance between root: {} and term: {} is {}'.format(root_term,\n",
    "                                                                term,\n",
    "                                                                manhattan_distance(root_vector, vector_term, norm=False)))\n"
   ]
  },
  {
   "cell_type": "code",
   "execution_count": 16,
   "metadata": {},
   "outputs": [
    {
     "name": "stdout",
     "output_type": "stream",
     "text": [
      "Normalized Manhattan distance between root: Believe and term: beleive is 1.14\n",
      "Normalized Manhattan distance between root: Believe and term: bargain is 5.43\n"
     ]
    },
    {
     "ename": "ValueError",
     "evalue": "The vectors must have equal lengths.",
     "output_type": "error",
     "traceback": [
      "\u001b[0;31m---------------------------------------------------------------------------\u001b[0m",
      "\u001b[0;31mValueError\u001b[0m                                Traceback (most recent call last)",
      "\u001b[0;32m<ipython-input-16-04c9e93bc4a9>\u001b[0m in \u001b[0;36m<module>\u001b[0;34m\u001b[0m\n\u001b[1;32m      2\u001b[0m     print ('Normalized Manhattan distance between root: {} and term: {} is {}'.format(root_term,\n\u001b[1;32m      3\u001b[0m                                                                 \u001b[0mterm\u001b[0m\u001b[0;34m,\u001b[0m\u001b[0;34m\u001b[0m\u001b[0;34m\u001b[0m\u001b[0m\n\u001b[0;32m----> 4\u001b[0;31m                                                                 round(manhattan_distance(root_vector, vector_term, norm=True),2)))\n\u001b[0m",
      "\u001b[0;32m<ipython-input-13-f76af5f725e0>\u001b[0m in \u001b[0;36mmanhattan_distance\u001b[0;34m(u, v, norm)\u001b[0m\n\u001b[1;32m      1\u001b[0m \u001b[0;32mdef\u001b[0m \u001b[0mmanhattan_distance\u001b[0m\u001b[0;34m(\u001b[0m\u001b[0mu\u001b[0m\u001b[0;34m,\u001b[0m \u001b[0mv\u001b[0m\u001b[0;34m,\u001b[0m \u001b[0mnorm\u001b[0m\u001b[0;34m=\u001b[0m\u001b[0;32mFalse\u001b[0m\u001b[0;34m)\u001b[0m\u001b[0;34m:\u001b[0m\u001b[0;34m\u001b[0m\u001b[0;34m\u001b[0m\u001b[0m\n\u001b[1;32m      2\u001b[0m     \u001b[0;32mif\u001b[0m \u001b[0mu\u001b[0m\u001b[0;34m.\u001b[0m\u001b[0mshape\u001b[0m \u001b[0;34m!=\u001b[0m \u001b[0mv\u001b[0m\u001b[0;34m.\u001b[0m\u001b[0mshape\u001b[0m\u001b[0;34m:\u001b[0m\u001b[0;34m\u001b[0m\u001b[0;34m\u001b[0m\u001b[0m\n\u001b[0;32m----> 3\u001b[0;31m         \u001b[0;32mraise\u001b[0m \u001b[0mValueError\u001b[0m\u001b[0;34m(\u001b[0m\u001b[0;34m'The vectors must have equal lengths.'\u001b[0m\u001b[0;34m)\u001b[0m\u001b[0;34m\u001b[0m\u001b[0;34m\u001b[0m\u001b[0m\n\u001b[0m\u001b[1;32m      4\u001b[0m     \u001b[0;32mreturn\u001b[0m \u001b[0mabs\u001b[0m\u001b[0;34m(\u001b[0m\u001b[0mu\u001b[0m \u001b[0;34m-\u001b[0m \u001b[0mv\u001b[0m\u001b[0;34m)\u001b[0m\u001b[0;34m.\u001b[0m\u001b[0msum\u001b[0m\u001b[0;34m(\u001b[0m\u001b[0;34m)\u001b[0m \u001b[0;32mif\u001b[0m \u001b[0;32mnot\u001b[0m \u001b[0mnorm\u001b[0m \u001b[0;32melse\u001b[0m \u001b[0mabs\u001b[0m\u001b[0;34m(\u001b[0m\u001b[0mu\u001b[0m \u001b[0;34m-\u001b[0m \u001b[0mv\u001b[0m\u001b[0;34m)\u001b[0m\u001b[0;34m.\u001b[0m\u001b[0mmean\u001b[0m\u001b[0;34m(\u001b[0m\u001b[0;34m)\u001b[0m\u001b[0;34m\u001b[0m\u001b[0;34m\u001b[0m\u001b[0m\n",
      "\u001b[0;31mValueError\u001b[0m: The vectors must have equal lengths."
     ]
    }
   ],
   "source": [
    "for term, vector_term in zip(terms, vector_terms):\n",
    "    print ('Normalized Manhattan distance between root: {} and term: {} is {}'.format(root_term,\n",
    "                                                                term,\n",
    "                                                                round(manhattan_distance(root_vector, vector_term, norm=True),2)))\n"
   ]
  },
  {
   "cell_type": "markdown",
   "metadata": {},
   "source": [
    "# Euclidean Distance\n",
    "\n",
    "‘the Euclidean distance is also known as the Euclidean norm, L2 norm, or L2 distance and is defined as the shortest straight-line distance between two points’\n",
    "\n",
    "$$\n",
    "ed(u,v) = || u - v ||_2 = \\sqrt{\\sum_{i=1}^{n}{(u_i - v_i)^2}}\n",
    "$$\n"
   ]
  },
  {
   "cell_type": "code",
   "execution_count": 17,
   "metadata": {},
   "outputs": [],
   "source": [
    "def euclidean_distance(u,v):\n",
    "    if u.shape != v.shape:\n",
    "        raise ValueError('The vectors must have equal lengths.')\n",
    "    distance = np.sqrt(np.sum(np.square(u - v)))\n",
    "    return distance"
   ]
  },
  {
   "cell_type": "code",
   "execution_count": 18,
   "metadata": {},
   "outputs": [
    {
     "name": "stdout",
     "output_type": "stream",
     "text": [
      "root_vector=[ 98 101 108 105 101 118 101]\n",
      "vec_term1  =[ 98 101 108 101 105 118 101]\n",
      "ed(root_vector,vec_term1)=5.656854249492381\n"
     ]
    }
   ],
   "source": [
    "print('root_vector={}'.format(root_vector))\n",
    "print('vec_term1  ={}'.format(vec_term1))\n",
    "print('ed(root_vector,vec_term1)={}'.format(np.sqrt(np.sum([np.square(4),np.square(4)]))))"
   ]
  },
  {
   "cell_type": "code",
   "execution_count": 19,
   "metadata": {},
   "outputs": [
    {
     "name": "stdout",
     "output_type": "stream",
     "text": [
      "Euclidean distance between root: Believe and term: beleive is 5.66\n",
      "Euclidean distance between root: Believe and term: bargain is 17.94\n"
     ]
    },
    {
     "ename": "ValueError",
     "evalue": "The vectors must have equal lengths.",
     "output_type": "error",
     "traceback": [
      "\u001b[0;31m---------------------------------------------------------------------------\u001b[0m",
      "\u001b[0;31mValueError\u001b[0m                                Traceback (most recent call last)",
      "\u001b[0;32m<ipython-input-19-4c2f9b260b90>\u001b[0m in \u001b[0;36m<module>\u001b[0;34m\u001b[0m\n\u001b[1;32m      2\u001b[0m     print ('Euclidean distance between root: {} and term: {} is {}'.format(root_term,\n\u001b[1;32m      3\u001b[0m                                                                 \u001b[0mterm\u001b[0m\u001b[0;34m,\u001b[0m\u001b[0;34m\u001b[0m\u001b[0;34m\u001b[0m\u001b[0m\n\u001b[0;32m----> 4\u001b[0;31m                                                                 round(euclidean_distance(root_vector, vector_term),2)))\n\u001b[0m",
      "\u001b[0;32m<ipython-input-17-654771f3cf5d>\u001b[0m in \u001b[0;36meuclidean_distance\u001b[0;34m(u, v)\u001b[0m\n\u001b[1;32m      1\u001b[0m \u001b[0;32mdef\u001b[0m \u001b[0meuclidean_distance\u001b[0m\u001b[0;34m(\u001b[0m\u001b[0mu\u001b[0m\u001b[0;34m,\u001b[0m\u001b[0mv\u001b[0m\u001b[0;34m)\u001b[0m\u001b[0;34m:\u001b[0m\u001b[0;34m\u001b[0m\u001b[0;34m\u001b[0m\u001b[0m\n\u001b[1;32m      2\u001b[0m     \u001b[0;32mif\u001b[0m \u001b[0mu\u001b[0m\u001b[0;34m.\u001b[0m\u001b[0mshape\u001b[0m \u001b[0;34m!=\u001b[0m \u001b[0mv\u001b[0m\u001b[0;34m.\u001b[0m\u001b[0mshape\u001b[0m\u001b[0;34m:\u001b[0m\u001b[0;34m\u001b[0m\u001b[0;34m\u001b[0m\u001b[0m\n\u001b[0;32m----> 3\u001b[0;31m         \u001b[0;32mraise\u001b[0m \u001b[0mValueError\u001b[0m\u001b[0;34m(\u001b[0m\u001b[0;34m'The vectors must have equal lengths.'\u001b[0m\u001b[0;34m)\u001b[0m\u001b[0;34m\u001b[0m\u001b[0;34m\u001b[0m\u001b[0m\n\u001b[0m\u001b[1;32m      4\u001b[0m     \u001b[0mdistance\u001b[0m \u001b[0;34m=\u001b[0m \u001b[0mnp\u001b[0m\u001b[0;34m.\u001b[0m\u001b[0msqrt\u001b[0m\u001b[0;34m(\u001b[0m\u001b[0mnp\u001b[0m\u001b[0;34m.\u001b[0m\u001b[0msum\u001b[0m\u001b[0;34m(\u001b[0m\u001b[0mnp\u001b[0m\u001b[0;34m.\u001b[0m\u001b[0msquare\u001b[0m\u001b[0;34m(\u001b[0m\u001b[0mu\u001b[0m \u001b[0;34m-\u001b[0m \u001b[0mv\u001b[0m\u001b[0;34m)\u001b[0m\u001b[0;34m)\u001b[0m\u001b[0;34m)\u001b[0m\u001b[0;34m\u001b[0m\u001b[0;34m\u001b[0m\u001b[0m\n\u001b[1;32m      5\u001b[0m     \u001b[0;32mreturn\u001b[0m \u001b[0mdistance\u001b[0m\u001b[0;34m\u001b[0m\u001b[0;34m\u001b[0m\u001b[0m\n",
      "\u001b[0;31mValueError\u001b[0m: The vectors must have equal lengths."
     ]
    }
   ],
   "source": [
    "for term, vector_term in zip(terms, vector_terms):\n",
    "    print ('Euclidean distance between root: {} and term: {} is {}'.format(root_term,\n",
    "                                                                term,\n",
    "                                                                round(euclidean_distance(root_vector, vector_term),2)))"
   ]
  },
  {
   "cell_type": "markdown",
   "metadata": {},
   "source": [
    "## Levenstein Edit Distance\n",
    "\n",
    "참고 : \n",
    "- https://en.wikipedia.org/wiki/Levenshtein_distance\n",
    "- https://www.cuelogic.com/blog/the-levenshtein-algorithm\n",
    "\n",
    "$$\n",
    "l{d}_{u,v}\\left(i,j\\right) = \\left\\{\\begin{array}{cc}\\hfill max\\left(i,j\\right)\\hfill & \\hfill if\\kern0.5em  min\\left(i,j\\right)=0\\hfill \\\\ {}\\hfill min\\left\\{\\begin{array}{c}\\hfill \\begin{array}{l}l{d}_{u,v}\\left(i-1,j\\right)+1\\\\ {}l{d}_{u,v}\\left(i,j-1\\right)+1\\end{array}\\hfill \\\\ {}\\hfill l{d}_{u,v}\\left(i-1,j-1\\right)+{C}_{ui\\ne vj}\\hfill \\end{array}\\right\\}\\hfill & \\hfill otherwise\\hfill \\end{array}\\right\\} \n",
    "$$\n",
    "\n",
    "$$\n",
    "{C}_{u_i\\ \\ne\\ {v}_j} = \\left\\{\\begin{array}{c}\\hfill 1\\kern1em  if\\ {u}_i\\ne {v}_j\\hfill \\\\ {}\\hfill 0\\kern1em  if\\kern0.5em {u}_i={v}_j\\hfill \\end{array}\\right\\} \n",
    "$$\n",
    "\n",
    "<h4>Example</h4>\n",
    "For example, the Levenshtein distance between \"kitten\" and \"sitting\" is 3, <br/>\n",
    "since the following three edits change one into the other, and there is no way to do it with fewer than three edits:\n",
    "\n",
    "1. kitten → sitten (substitution of \"s\" for \"k\")\n",
    "2. sitten → sittin (substitution of \"i\" for \"e\")\n",
    "3. sittin → sitting (insertion of \"g\" at the end).\n"
   ]
  },
  {
   "cell_type": "code",
   "execution_count": 20,
   "metadata": {},
   "outputs": [],
   "source": [
    "import copy\n",
    "import pandas as pd\n",
    "\n",
    "def levenshtein_edit_distance(u, v):\n",
    "    # convert to lower case\n",
    "    u = u.lower()\n",
    "    v = v.lower()\n",
    "    # base cases\n",
    "    if u == v: return 0\n",
    "    elif len(u) == 0: return len(v)\n",
    "    elif len(v) == 0: return len(u)\n",
    "    # initialize edit distance matrix\n",
    "    edit_matrix = []\n",
    "    # initialize two distance matrices\n",
    "    du = [0] * (len(v) + 1)\n",
    "    dv = [0] * (len(v) + 1)\n",
    "    # du: the previous row of edit distances\n",
    "    for i in range(len(du)):\n",
    "        du[i] = i\n",
    "    # dv : the current row of edit distances\n",
    "    for i in range(len(u)):\n",
    "        dv[0] = i + 1\n",
    "        # compute cost as per algorithm\n",
    "        for j in range(len(v)):\n",
    "            cost = 0 if u[i] == v[j] else 1\n",
    "            dv[j + 1] = min(dv[j] + 1, du[j + 1] + 1, du[j] + cost)\n",
    "        # assign dv to du for next iteration\n",
    "        for j in range(len(du)):\n",
    "            du[j] = dv[j]\n",
    "        # copy dv to the edit matrix\n",
    "        edit_matrix.append(copy.copy(dv))\n",
    "    # compute the final edit distance and edit matrix\n",
    "    distance = dv[len(v)]\n",
    "    edit_matrix = np.array(edit_matrix)\n",
    "    edit_matrix = edit_matrix.T\n",
    "    edit_matrix = edit_matrix[1:,]\n",
    "    edit_matrix = pd.DataFrame(data=edit_matrix,\n",
    "                               index=list(v),\n",
    "                               columns=list(u))\n",
    "    return distance, edit_matrix"
   ]
  },
  {
   "cell_type": "code",
   "execution_count": 21,
   "metadata": {},
   "outputs": [
    {
     "name": "stdout",
     "output_type": "stream",
     "text": [
      "Computing distance between root: Believe and term: beleive\n",
      "Levenshtein edit distance is 2\n",
      "The complete edit distance matrix is depicted below\n",
      "   b  e  l  i  e  v  e\n",
      "b  0  1  2  3  4  5  6\n",
      "e  1  0  1  2  3  4  5\n",
      "l  2  1  0  1  2  3  4\n",
      "e  3  2  1  1  1  2  3\n",
      "i  4  3  2  1  2  2  3\n",
      "v  5  4  3  2  2  2  3\n",
      "e  6  5  4  3  2  3  2\n",
      "------------------------------\n",
      "Computing distance between root: Believe and term: bargain\n",
      "Levenshtein edit distance is 6\n",
      "The complete edit distance matrix is depicted below\n",
      "   b  e  l  i  e  v  e\n",
      "b  0  1  2  3  4  5  6\n",
      "a  1  1  2  3  4  5  6\n",
      "r  2  2  2  3  4  5  6\n",
      "g  3  3  3  3  4  5  6\n",
      "a  4  4  4  4  4  5  6\n",
      "i  5  5  5  4  5  5  6\n",
      "n  6  6  6  5  5  6  6\n",
      "------------------------------\n",
      "Computing distance between root: Believe and term: Elephant\n",
      "Levenshtein edit distance is 7\n",
      "The complete edit distance matrix is depicted below\n",
      "   b  e  l  i  e  v  e\n",
      "e  1  1  2  3  4  5  6\n",
      "l  2  2  1  2  3  4  5\n",
      "e  3  2  2  2  2  3  4\n",
      "p  4  3  3  3  3  3  4\n",
      "h  5  4  4  4  4  4  4\n",
      "a  6  5  5  5  5  5  5\n",
      "n  7  6  6  6  6  6  6\n",
      "t  8  7  7  7  7  7  7\n",
      "------------------------------\n"
     ]
    }
   ],
   "source": [
    "for term in terms:\n",
    "    edit_d, edit_m = levenshtein_edit_distance(root_term, term)\n",
    "    print ('Computing distance between root: {} and term: {}'.format(root_term, term))\n",
    "    print ('Levenshtein edit distance is {}'.format(edit_d))\n",
    "    print ('The complete edit distance matrix is depicted below')\n",
    "    print (edit_m)\n",
    "    print ('-'*30)"
   ]
  },
  {
   "cell_type": "markdown",
   "metadata": {},
   "source": [
    "## Cosine Similarity\n",
    "\n",
    "dot product between two vectors :\n",
    "\n",
    "$$ u\\cdot v = \\left|\\right|u\\left|\\right|\\kern0.5em \\left|\\right|v\\left|\\right| \\cos \\left(\\theta \\right) $$\n",
    "\n",
    "Cosine similarity : \n",
    "\n",
    "$$ cs\\left(u,\\ v\\right)= \\cos \\left(\\theta \\right) = \\frac{u\\cdot v}{\\left|\\left|u\\left|\\right|\\kern0.5em \\left|\\right|v\\right|\\right|} = \\frac{{\\displaystyle {\\sum}_{i=1}^n}{u}_i\\ {v}_i}{\\sqrt{{\\displaystyle {\\sum}_{i=1}^n}{u}_i^2}\\ \\sqrt{{\\displaystyle {\\sum}_{i=1}^n}{v}_i^2}} $$\n",
    "\n",
    "Cosine distance :\n",
    "$$ cd\\left(u,\\ v\\right)=1 - cs\\left(u,\\ v\\right)=1 - \\cos \\left(\\theta \\right)=1 - \\frac{u\\cdot v}{\\left|\\left|u\\left|\\right|\\kern0.5em \\left|\\right|v\\right|\\right|} = \\kern0.5em 1 - \\frac{{\\displaystyle {\\sum}_{i=1}^n}{u}_i\\ {v}_i}{\\sqrt{{\\displaystyle {\\sum}_{i=1}^n}{u}_i^2}\\ \\sqrt{{\\displaystyle {\\sum}_{i=1}^n}{v}_i^2}} $$"
   ]
  },
  {
   "cell_type": "code",
   "execution_count": 22,
   "metadata": {},
   "outputs": [],
   "source": [
    "def cosine_distance(u, v):\n",
    "    distance = 1.0 - (np.dot(u, v) / \n",
    "                        (np.sqrt(sum(np.square(u))) * np.sqrt(sum(np.square(v))))\n",
    "                     )\n",
    "    return distance"
   ]
  },
  {
   "cell_type": "code",
   "execution_count": 23,
   "metadata": {},
   "outputs": [
    {
     "name": "stdout",
     "output_type": "stream",
     "text": [
      "root_vector=[ 98 101 108 105 101 118 101]\n",
      "vec_term1  =[ 98 101 108 101 105 118 101]\n",
      "ed(root_vector,vec_term1)=5.656854249492381\n"
     ]
    }
   ],
   "source": [
    "print('root_vector={}'.format(root_vector))\n",
    "print('vec_term1  ={}'.format(vec_term1))\n",
    "print('ed(root_vector,vec_term1)={}'.format(np.sqrt(np.sum([np.square(4),np.square(4)]))))"
   ]
  },
  {
   "cell_type": "code",
   "execution_count": 24,
   "metadata": {},
   "outputs": [
    {
     "name": "stdout",
     "output_type": "stream",
     "text": [
      "Analyzing similarity between root: Believe and term: beleive\n",
      "Cosine distance  is -0.0\n",
      "Cosine similarity  is 1.0\n",
      "----------------------------------------\n",
      "Analyzing similarity between root: Believe and term: bargain\n",
      "Cosine distance  is 0.82\n",
      "Cosine similarity  is 0.18000000000000005\n",
      "----------------------------------------\n",
      "Analyzing similarity between root: Believe and term: Elephant\n",
      "Cosine distance  is 0.39\n",
      "Cosine similarity  is 0.61\n",
      "----------------------------------------\n"
     ]
    }
   ],
   "source": [
    "# COSINE DISTANCE\\SIMILARITY DEMO\n",
    "for term, boc_term in zip(terms, boc_vector_terms):\n",
    "    print ('Analyzing similarity between root: {} and term: {}'.format(root_term, term))\n",
    "    distance = round(cosine_distance(root_boc_vector, boc_term),2)\n",
    "    similarity = 1 - distance                                                           \n",
    "    print ('Cosine distance  is {}'.format(distance))\n",
    "    print ('Cosine similarity  is {}'.format(similarity))\n",
    "    print ('-'*40)"
   ]
  },
  {
   "cell_type": "markdown",
   "metadata": {},
   "source": [
    "## Document Similarity\n",
    "\n",
    "Distance :\n",
    "\n",
    "- Cosine similarity\n",
    "- Hellinger-Bhattacharya distance\n",
    "- Okapi BM25 distance\n",
    "\n"
   ]
  },
  {
   "cell_type": "code",
   "execution_count": null,
   "metadata": {},
   "outputs": [],
   "source": []
  }
 ],
 "metadata": {
  "kernelspec": {
   "display_name": "Python 3",
   "language": "python",
   "name": "python3"
  },
  "language_info": {
   "codemirror_mode": {
    "name": "ipython",
    "version": 3
   },
   "file_extension": ".py",
   "mimetype": "text/x-python",
   "name": "python",
   "nbconvert_exporter": "python",
   "pygments_lexer": "ipython3",
   "version": "3.6.7"
  }
 },
 "nbformat": 4,
 "nbformat_minor": 2
}
