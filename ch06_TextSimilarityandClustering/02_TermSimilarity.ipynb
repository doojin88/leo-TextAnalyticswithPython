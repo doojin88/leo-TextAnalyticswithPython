{
 "cells": [
  {
   "cell_type": "code",
   "execution_count": 1,
   "metadata": {},
   "outputs": [],
   "source": [
    "import warnings\n",
    "warnings.filterwarnings('ignore')"
   ]
  },
  {
   "cell_type": "code",
   "execution_count": 2,
   "metadata": {},
   "outputs": [],
   "source": [
    "%matplotlib inline"
   ]
  },
  {
   "cell_type": "markdown",
   "metadata": {},
   "source": [
    "# Text Similarity\n",
    "\n",
    "There are various ways of analyzing text similarity, and we can classify the intent of text similarity broadly into the following two areas:"
   ]
  },
  {
   "cell_type": "markdown",
   "metadata": {},
   "source": [
    "\n",
    "we can classify the intent of text similarity : \n",
    "- Lexical similarity\n",
    "  - This involves observing the contents of the text documents with regard to **syntax**, **structure**, and content and measuring their similarity based on these parameters.\n",
    "- Semantic similarity\n",
    "  - This involves trying to find out the **semantics**, **meaning**, and context of the documents and then trying to see how close they are to each other. Dependency grammars and entity recognition are handy tools that can help in this.\n",
    "\n"
   ]
  },
  {
   "cell_type": "markdown",
   "metadata": {},
   "source": [
    "### sematic similarity\n",
    "\n",
    "You can also cover several parts of **semantic similarity** using simple models like the Bag of Words. \n",
    "\n",
    "Usually distance metrics will be used to measure similarity scores between text entities, \n",
    "\n",
    "and we will be mainly covering the following two broad areas of text similarity:\n",
    "\n",
    "Using Bag of Words (BOW) : \n",
    "- term similarity\n",
    "- document similarity"
   ]
  },
  {
   "cell_type": "markdown",
   "metadata": {},
   "source": [
    "# Analyzing Term Similarity\n",
    "\n",
    "\n",
    "We will start with analyzing term similarity—or similarity between individual word tokens, to be more precise.\n",
    "\n",
    "참고 : \n",
    "- [tokenization](https://nlp.stanford.edu/IR-book/html/htmledition/tokenization-1.html)\n",
    "\n",
    "\n",
    "Usages: <br/>\n",
    "- several applications and use-cases like autocompleters, spell check, and correctors \n",
    "use some of these techniques to correct misspelled terms.\n",
    "\n",
    "\n",
    "The **word representations** we will be using are as follows:\n",
    "- Character vectorization\n",
    "- Bag of Characters vectorization"
   ]
  },
  {
   "cell_type": "markdown",
   "metadata": {},
   "source": [
    "\n",
    "## Characters Verctorization\n"
   ]
  },
  {
   "cell_type": "code",
   "execution_count": 8,
   "metadata": {},
   "outputs": [],
   "source": [
    "import numpy as np\n",
    "from scipy.stats import itemfreq"
   ]
  },
  {
   "cell_type": "code",
   "execution_count": 9,
   "metadata": {},
   "outputs": [],
   "source": [
    "def vectorize_terms(terms):\n",
    "    terms = [term.lower() for term in terms]\n",
    "    terms = [np.array(list(term)) for term in terms]\n",
    "    terms = [np.array([ord(char) for char in term]) for term in terms]\n",
    "    return terms"
   ]
  },
  {
   "cell_type": "code",
   "execution_count": 10,
   "metadata": {},
   "outputs": [
    {
     "name": "stdout",
     "output_type": "stream",
     "text": [
      "\n",
      "root: [ 98 101 108 105 101 118 101]\n",
      "term1: [ 98 101 108 101 105 118 101]\n",
      "term2: [ 98  97 114 103  97 105 110]\n",
      "term3: [101 108 101 112 104  97 110 116]\n",
      "\n"
     ]
    }
   ],
   "source": [
    "root = 'Believe'\n",
    "term1 = 'beleive'\n",
    "term2 = 'bargain'\n",
    "term3 = 'Elephant'    \n",
    "\n",
    "terms = [root, term1, term2, term3]\n",
    "\n",
    "vec_root, vec_term1, vec_term2, vec_term3 = vectorize_terms(terms)\n",
    "print ('''\n",
    "root: {}\n",
    "term1: {}\n",
    "term2: {}\n",
    "term3: {}\n",
    "'''.format(vec_root, vec_term1, vec_term2, vec_term3))"
   ]
  },
  {
   "cell_type": "code",
   "execution_count": 11,
   "metadata": {},
   "outputs": [
    {
     "name": "stdout",
     "output_type": "stream",
     "text": [
      "b = 98, e = 101\n"
     ]
    }
   ],
   "source": [
    "print('b = {}, e = {}'.format(ord('b'),ord('e')))"
   ]
  },
  {
   "cell_type": "markdown",
   "metadata": {},
   "source": [
    "## Bag of Characters vectorization\n",
    "\n",
    "**Bag of Characters** vectorization is very similar to the **Bag of Words** model except here we compute the frequency of each character in the word. \n",
    "\n",
    "Sequence or word orders are not taken into account. \n",
    "\n",
    "The following function helps in computing this:"
   ]
  },
  {
   "cell_type": "code",
   "execution_count": 14,
   "metadata": {},
   "outputs": [],
   "source": [
    "def boc_term_vectors(word_list):\n",
    "    word_list = [word.lower() for word in word_list]\n",
    "    unique_chars = np.unique(np.hstack([list(word) for word in word_list]))\n",
    "    word_list_term_counts = [{char: count for char, count in itemfreq(list(word))} for word in word_list]\n",
    "\n",
    "    boc_vectors = [np.array([int(word_term_counts.get(char, 0)) for char in unique_chars])\n",
    "                                for word_term_counts in word_list_term_counts]\n",
    "    return list(unique_chars), boc_vectors"
   ]
  },
  {
   "cell_type": "code",
   "execution_count": 15,
   "metadata": {},
   "outputs": [
    {
     "name": "stdout",
     "output_type": "stream",
     "text": [
      "Features: ['a', 'b', 'e', 'g', 'h', 'i', 'l', 'n', 'p', 'r', 't', 'v']\n",
      "\n",
      "root: [0 1 3 0 0 1 1 0 0 0 0 1]\n",
      "term1: [0 1 3 0 0 1 1 0 0 0 0 1]\n",
      "term2: [2 1 0 1 0 1 0 1 0 1 0 0]\n",
      "term3: [1 0 2 0 1 0 1 1 1 0 1 0]\n",
      "\n"
     ]
    }
   ],
   "source": [
    "root = 'Believe'\n",
    "term1 = 'beleive'\n",
    "term2 = 'bargain'\n",
    "term3 = 'Elephant'    \n",
    "\n",
    "terms = [root, term1, term2, term3]\n",
    "\n",
    "features, (boc_root, boc_term1, boc_term2, boc_term3) = boc_term_vectors(terms)\n",
    "print ('Features:', features)\n",
    "print ('''\n",
    "root: {}\n",
    "term1: {}\n",
    "term2: {}\n",
    "term3: {}\n",
    "'''.format(boc_root, boc_term1, boc_term2, boc_term3))"
   ]
  },
  {
   "cell_type": "markdown",
   "metadata": {},
   "source": [
    "# Distance :\n",
    "\n",
    "- Hamming distance\n",
    "- Manhattan distance\n",
    "- Euclidean distance\n",
    "- Levenshtein distance\n",
    "- Cosine distance and similarity\n",
    "\n",
    "참고 : \n",
    "- https://www.slideshare.net/smanjunath1/similarity-measures\n",
    "- https://www.slideshare.net/khusuma/distance-function\n",
    "- https://medium.com/@adriensieg/text-similarities-da019229c894\n",
    "- http://dataaspirant.com/2015/04/11/five-most-popular-similarity-measures-implementation-in-python/\n"
   ]
  },
  {
   "cell_type": "markdown",
   "metadata": {},
   "source": [
    "# Hamming Distance\n",
    "\n",
    "u, v : term of length n,\n",
    "\n",
    "Hammding Distance :\n",
    "$$\n",
    "\\large hd(u,v) = \\sum_{i=1}^{n}(u_i \\ne v_i)\n",
    "$$\n",
    "\n",
    "Normalized Hamming Distance :\n",
    "$$\n",
    "\\large norm\\_hd(u,v) = \\frac{\\sum_{i=1}^{n}{(u_i \\ne v_i)}}{n}\n",
    "$$\n",
    "\n",
    "참고 : \n",
    "- https://en.wikipedia.org/wiki/Hamming_distance\n",
    "\n",
    "\n",
    "The Hamming distance between:\n",
    "- \"karolin\" and \"kathrin\" is 3.\n",
    "- \"karolin\" and \"kerstin\" is 3.\n",
    "- 1011101 and 1001001 is 2.\n",
    "- 2173896 and 2233796 is 3.\n",
    "\n",
    "\n",
    "Two example distances: 100→011 has distance 3; 010→111 has distance 2 :\n",
    "\n",
    "[![3-bit binary cube Hamming distance examples](https://upload.wikimedia.org/wikipedia/commons/thumb/6/6e/Hamming_distance_3_bit_binary_example.svg/140px-Hamming_distance_3_bit_binary_example.svg.png)](https://en.wikipedia.org/wiki/File:Hamming_distance_3_bit_binary_example.svg)\n"
   ]
  },
  {
   "cell_type": "code",
   "execution_count": 33,
   "metadata": {},
   "outputs": [],
   "source": [
    "def hamming_distance(u, v, norm=False):\n",
    "    if u.shape != v.shape:\n",
    "        raise ValueError('The vectors must have equal lengths.')\n",
    "    return (u != v).sum() if not norm else (u != v).mean()"
   ]
  },
  {
   "cell_type": "code",
   "execution_count": 34,
   "metadata": {},
   "outputs": [
    {
     "name": "stdout",
     "output_type": "stream",
     "text": [
      "root_vector=[ 98 101 108 105 101 118 101]\n",
      "vec_term1  =[ 98 101 108 101 105 118 101]\n"
     ]
    }
   ],
   "source": [
    "root_term = root\n",
    "root_vector = vec_root\n",
    "root_boc_vector = boc_root\n",
    "\n",
    "terms = [term1, term2, term3]\n",
    "vector_terms = [vec_term1, vec_term2, vec_term3]\n",
    "boc_vector_terms = [boc_term1, boc_term2, boc_term3]\n",
    "\n",
    "print('root_vector={}'.format(root_vector))\n",
    "print('vec_term1  ={}'.format(vec_term1))"
   ]
  },
  {
   "cell_type": "markdown",
   "metadata": {},
   "source": [
    "### hamming distance "
   ]
  },
  {
   "cell_type": "code",
   "execution_count": 27,
   "metadata": {},
   "outputs": [
    {
     "name": "stdout",
     "output_type": "stream",
     "text": [
      "Hamming distance between root: Believe and term: beleive is 2\n",
      "Hamming distance between root: Believe and term: bargain is 6\n"
     ]
    },
    {
     "ename": "ValueError",
     "evalue": "The vectors must have equal lengths.",
     "output_type": "error",
     "traceback": [
      "\u001b[0;31m---------------------------------------------------------------------------\u001b[0m",
      "\u001b[0;31mValueError\u001b[0m                                Traceback (most recent call last)",
      "\u001b[0;32m<ipython-input-27-58faa671a21a>\u001b[0m in \u001b[0;36m<module>\u001b[0;34m\u001b[0m\n\u001b[1;32m      4\u001b[0m            format(root_term, \n\u001b[1;32m      5\u001b[0m                   \u001b[0mterm\u001b[0m\u001b[0;34m,\u001b[0m\u001b[0;34m\u001b[0m\u001b[0;34m\u001b[0m\u001b[0m\n\u001b[0;32m----> 6\u001b[0;31m                   \u001b[0mhamming_distance\u001b[0m\u001b[0;34m(\u001b[0m\u001b[0mroot_vector\u001b[0m\u001b[0;34m,\u001b[0m \u001b[0mvector_term\u001b[0m\u001b[0;34m,\u001b[0m \u001b[0mnorm\u001b[0m\u001b[0;34m=\u001b[0m\u001b[0;32mFalse\u001b[0m\u001b[0;34m)\u001b[0m\u001b[0;34m\u001b[0m\u001b[0;34m\u001b[0m\u001b[0m\n\u001b[0m\u001b[1;32m      7\u001b[0m                  ))\n",
      "\u001b[0;32m<ipython-input-23-2034efa805fa>\u001b[0m in \u001b[0;36mhamming_distance\u001b[0;34m(u, v, norm)\u001b[0m\n\u001b[1;32m      1\u001b[0m \u001b[0;32mdef\u001b[0m \u001b[0mhamming_distance\u001b[0m\u001b[0;34m(\u001b[0m\u001b[0mu\u001b[0m\u001b[0;34m,\u001b[0m \u001b[0mv\u001b[0m\u001b[0;34m,\u001b[0m \u001b[0mnorm\u001b[0m\u001b[0;34m=\u001b[0m\u001b[0;32mFalse\u001b[0m\u001b[0;34m)\u001b[0m\u001b[0;34m:\u001b[0m\u001b[0;34m\u001b[0m\u001b[0;34m\u001b[0m\u001b[0m\n\u001b[1;32m      2\u001b[0m     \u001b[0;32mif\u001b[0m \u001b[0mu\u001b[0m\u001b[0;34m.\u001b[0m\u001b[0mshape\u001b[0m \u001b[0;34m!=\u001b[0m \u001b[0mv\u001b[0m\u001b[0;34m.\u001b[0m\u001b[0mshape\u001b[0m\u001b[0;34m:\u001b[0m\u001b[0;34m\u001b[0m\u001b[0;34m\u001b[0m\u001b[0m\n\u001b[0;32m----> 3\u001b[0;31m         \u001b[0;32mraise\u001b[0m \u001b[0mValueError\u001b[0m\u001b[0;34m(\u001b[0m\u001b[0;34m'The vectors must have equal lengths.'\u001b[0m\u001b[0;34m)\u001b[0m\u001b[0;34m\u001b[0m\u001b[0;34m\u001b[0m\u001b[0m\n\u001b[0m\u001b[1;32m      4\u001b[0m     \u001b[0;32mreturn\u001b[0m \u001b[0;34m(\u001b[0m\u001b[0mu\u001b[0m \u001b[0;34m!=\u001b[0m \u001b[0mv\u001b[0m\u001b[0;34m)\u001b[0m\u001b[0;34m.\u001b[0m\u001b[0msum\u001b[0m\u001b[0;34m(\u001b[0m\u001b[0;34m)\u001b[0m \u001b[0;32mif\u001b[0m \u001b[0;32mnot\u001b[0m \u001b[0mnorm\u001b[0m \u001b[0;32melse\u001b[0m \u001b[0;34m(\u001b[0m\u001b[0mu\u001b[0m \u001b[0;34m!=\u001b[0m \u001b[0mv\u001b[0m\u001b[0;34m)\u001b[0m\u001b[0;34m.\u001b[0m\u001b[0mmean\u001b[0m\u001b[0;34m(\u001b[0m\u001b[0;34m)\u001b[0m\u001b[0;34m\u001b[0m\u001b[0;34m\u001b[0m\u001b[0m\n",
      "\u001b[0;31mValueError\u001b[0m: The vectors must have equal lengths."
     ]
    }
   ],
   "source": [
    "# HAMMING DISTANCE DEMO\n",
    "for term, vector_term in zip(terms, vector_terms):\n",
    "    print ('Hamming distance between root: {} and term: {} is {}'.\n",
    "           format(root_term, \n",
    "                  term,\n",
    "                  hamming_distance(root_vector, vector_term, norm=False)\n",
    "                 ))"
   ]
  },
  {
   "cell_type": "markdown",
   "metadata": {},
   "source": [
    "###  hamming distance (normalized)"
   ]
  },
  {
   "cell_type": "code",
   "execution_count": 28,
   "metadata": {},
   "outputs": [
    {
     "name": "stdout",
     "output_type": "stream",
     "text": [
      "Normalized Hamming distance between root: Believe and term: beleive is 0.29\n",
      "Normalized Hamming distance between root: Believe and term: bargain is 0.86\n"
     ]
    },
    {
     "ename": "ValueError",
     "evalue": "The vectors must have equal lengths.",
     "output_type": "error",
     "traceback": [
      "\u001b[0;31m---------------------------------------------------------------------------\u001b[0m",
      "\u001b[0;31mValueError\u001b[0m                                Traceback (most recent call last)",
      "\u001b[0;32m<ipython-input-28-d61549553b40>\u001b[0m in \u001b[0;36m<module>\u001b[0;34m\u001b[0m\n\u001b[1;32m      3\u001b[0m            format(root_term,\n\u001b[1;32m      4\u001b[0m                   \u001b[0mterm\u001b[0m\u001b[0;34m,\u001b[0m\u001b[0;34m\u001b[0m\u001b[0;34m\u001b[0m\u001b[0m\n\u001b[0;32m----> 5\u001b[0;31m                   \u001b[0mround\u001b[0m\u001b[0;34m(\u001b[0m\u001b[0mhamming_distance\u001b[0m\u001b[0;34m(\u001b[0m\u001b[0mroot_vector\u001b[0m\u001b[0;34m,\u001b[0m \u001b[0mvector_term\u001b[0m\u001b[0;34m,\u001b[0m \u001b[0mnorm\u001b[0m\u001b[0;34m=\u001b[0m\u001b[0;32mTrue\u001b[0m\u001b[0;34m)\u001b[0m\u001b[0;34m,\u001b[0m \u001b[0;36m2\u001b[0m\u001b[0;34m)\u001b[0m\u001b[0;34m\u001b[0m\u001b[0;34m\u001b[0m\u001b[0m\n\u001b[0m\u001b[1;32m      6\u001b[0m                  ))\n",
      "\u001b[0;32m<ipython-input-23-2034efa805fa>\u001b[0m in \u001b[0;36mhamming_distance\u001b[0;34m(u, v, norm)\u001b[0m\n\u001b[1;32m      1\u001b[0m \u001b[0;32mdef\u001b[0m \u001b[0mhamming_distance\u001b[0m\u001b[0;34m(\u001b[0m\u001b[0mu\u001b[0m\u001b[0;34m,\u001b[0m \u001b[0mv\u001b[0m\u001b[0;34m,\u001b[0m \u001b[0mnorm\u001b[0m\u001b[0;34m=\u001b[0m\u001b[0;32mFalse\u001b[0m\u001b[0;34m)\u001b[0m\u001b[0;34m:\u001b[0m\u001b[0;34m\u001b[0m\u001b[0;34m\u001b[0m\u001b[0m\n\u001b[1;32m      2\u001b[0m     \u001b[0;32mif\u001b[0m \u001b[0mu\u001b[0m\u001b[0;34m.\u001b[0m\u001b[0mshape\u001b[0m \u001b[0;34m!=\u001b[0m \u001b[0mv\u001b[0m\u001b[0;34m.\u001b[0m\u001b[0mshape\u001b[0m\u001b[0;34m:\u001b[0m\u001b[0;34m\u001b[0m\u001b[0;34m\u001b[0m\u001b[0m\n\u001b[0;32m----> 3\u001b[0;31m         \u001b[0;32mraise\u001b[0m \u001b[0mValueError\u001b[0m\u001b[0;34m(\u001b[0m\u001b[0;34m'The vectors must have equal lengths.'\u001b[0m\u001b[0;34m)\u001b[0m\u001b[0;34m\u001b[0m\u001b[0;34m\u001b[0m\u001b[0m\n\u001b[0m\u001b[1;32m      4\u001b[0m     \u001b[0;32mreturn\u001b[0m \u001b[0;34m(\u001b[0m\u001b[0mu\u001b[0m \u001b[0;34m!=\u001b[0m \u001b[0mv\u001b[0m\u001b[0;34m)\u001b[0m\u001b[0;34m.\u001b[0m\u001b[0msum\u001b[0m\u001b[0;34m(\u001b[0m\u001b[0;34m)\u001b[0m \u001b[0;32mif\u001b[0m \u001b[0;32mnot\u001b[0m \u001b[0mnorm\u001b[0m \u001b[0;32melse\u001b[0m \u001b[0;34m(\u001b[0m\u001b[0mu\u001b[0m \u001b[0;34m!=\u001b[0m \u001b[0mv\u001b[0m\u001b[0;34m)\u001b[0m\u001b[0;34m.\u001b[0m\u001b[0mmean\u001b[0m\u001b[0;34m(\u001b[0m\u001b[0;34m)\u001b[0m\u001b[0;34m\u001b[0m\u001b[0;34m\u001b[0m\u001b[0m\n",
      "\u001b[0;31mValueError\u001b[0m: The vectors must have equal lengths."
     ]
    }
   ],
   "source": [
    "for term, vector_term in zip(terms, vector_terms):\n",
    "    print ('Normalized Hamming distance between root: {} and term: {} is {}'.\n",
    "           format(root_term,\n",
    "                  term,\n",
    "                  round(hamming_distance(root_vector, vector_term, norm=True), 2)\n",
    "                 ))"
   ]
  },
  {
   "cell_type": "markdown",
   "metadata": {},
   "source": [
    "# Manhattan Distance\n",
    "\n",
    "we subtract the difference between each pair of characters at each position of the two strings. \n",
    "\n",
    "Formally, Manhattan distance is also known as city block distance, L1 norm, taxicab metric \n",
    "\n",
    "and is defined as the distance between two points in a grid based on strictly horizontal or vertical paths instead of the diagonal distance conventionally calculated by the Euclidean distance metric.\n",
    "\n",
    "$$\n",
    "\\Large md(u,v) = || u - v ||_1 = \\sum_{i=1}^{n}{|u_i - v_i|}\n",
    "$$\n",
    "\n",
    "Normalized :\n",
    "\n",
    "$$\n",
    "\\Large norm\\_md(u,v) = \\frac{|| u - v ||_1}{n} = \\frac{\\sum_{i=1}^{n}{|u_i - v_i|} }{n}\n",
    "$$\n",
    "\n",
    "참고:\n",
    "- [https://www.sciencedirect.com/topics/engineering/manhattan-distance](https://www.sciencedirect.com/topics/engineering/manhattan-distance)\n",
    "  - example:\n",
    "    ![image](https://ars.els-cdn.com/content/image/3-s2.0-B9780128038185000093-f09-18-9780128038185.jpg?_)\n",
    "- L1 norm vs. L2 norm \n",
    "  - http://www.chioka.in/differences-between-the-l1-norm-and-the-l2-norm-least-absolute-deviations-and-least-squares/"
   ]
  },
  {
   "cell_type": "code",
   "execution_count": 41,
   "metadata": {},
   "outputs": [],
   "source": [
    "def manhattan_distance(u, v, norm=False):\n",
    "    if u.shape != v.shape:\n",
    "        raise ValueError('The vectors must have equal lengths.')\n",
    "    return abs(u - v).sum() if not norm else abs(u - v).mean()"
   ]
  },
  {
   "cell_type": "code",
   "execution_count": 42,
   "metadata": {},
   "outputs": [
    {
     "name": "stdout",
     "output_type": "stream",
     "text": [
      "root_vector=[ 98 101 108 105 101 118 101]\n",
      "vec_term1  =[ 98 101 108 101 105 118 101]\n"
     ]
    }
   ],
   "source": [
    "root_term = root\n",
    "root_vector = vec_root\n",
    "root_boc_vector = boc_root\n",
    "\n",
    "terms = [term1, term2, term3]\n",
    "vector_terms = [vec_term1, vec_term2, vec_term3]\n",
    "boc_vector_terms = [boc_term1, boc_term2, boc_term3]\n",
    "\n",
    "print('root_vector={}'.format(root_vector))\n",
    "print('vec_term1  ={}'.format(vec_term1))"
   ]
  },
  {
   "cell_type": "markdown",
   "metadata": {},
   "source": [
    "### mahattan distance"
   ]
  },
  {
   "cell_type": "code",
   "execution_count": 43,
   "metadata": {},
   "outputs": [
    {
     "name": "stdout",
     "output_type": "stream",
     "text": [
      "Manhattan distance between root: Believe and term: beleive is 8\n",
      "Manhattan distance between root: Believe and term: bargain is 38\n"
     ]
    },
    {
     "ename": "ValueError",
     "evalue": "The vectors must have equal lengths.",
     "output_type": "error",
     "traceback": [
      "\u001b[0;31m---------------------------------------------------------------------------\u001b[0m",
      "\u001b[0;31mValueError\u001b[0m                                Traceback (most recent call last)",
      "\u001b[0;32m<ipython-input-43-06eae9d09bce>\u001b[0m in \u001b[0;36m<module>\u001b[0;34m\u001b[0m\n\u001b[1;32m      3\u001b[0m           format(root_term,\n\u001b[1;32m      4\u001b[0m                  \u001b[0mterm\u001b[0m\u001b[0;34m,\u001b[0m\u001b[0;34m\u001b[0m\u001b[0;34m\u001b[0m\u001b[0m\n\u001b[0;32m----> 5\u001b[0;31m                  \u001b[0mmanhattan_distance\u001b[0m\u001b[0;34m(\u001b[0m\u001b[0mroot_vector\u001b[0m\u001b[0;34m,\u001b[0m \u001b[0mvector_term\u001b[0m\u001b[0;34m,\u001b[0m \u001b[0mnorm\u001b[0m\u001b[0;34m=\u001b[0m\u001b[0;32mFalse\u001b[0m\u001b[0;34m)\u001b[0m\u001b[0;34m\u001b[0m\u001b[0;34m\u001b[0m\u001b[0m\n\u001b[0m\u001b[1;32m      6\u001b[0m                 ))\n",
      "\u001b[0;32m<ipython-input-41-f76af5f725e0>\u001b[0m in \u001b[0;36mmanhattan_distance\u001b[0;34m(u, v, norm)\u001b[0m\n\u001b[1;32m      1\u001b[0m \u001b[0;32mdef\u001b[0m \u001b[0mmanhattan_distance\u001b[0m\u001b[0;34m(\u001b[0m\u001b[0mu\u001b[0m\u001b[0;34m,\u001b[0m \u001b[0mv\u001b[0m\u001b[0;34m,\u001b[0m \u001b[0mnorm\u001b[0m\u001b[0;34m=\u001b[0m\u001b[0;32mFalse\u001b[0m\u001b[0;34m)\u001b[0m\u001b[0;34m:\u001b[0m\u001b[0;34m\u001b[0m\u001b[0;34m\u001b[0m\u001b[0m\n\u001b[1;32m      2\u001b[0m     \u001b[0;32mif\u001b[0m \u001b[0mu\u001b[0m\u001b[0;34m.\u001b[0m\u001b[0mshape\u001b[0m \u001b[0;34m!=\u001b[0m \u001b[0mv\u001b[0m\u001b[0;34m.\u001b[0m\u001b[0mshape\u001b[0m\u001b[0;34m:\u001b[0m\u001b[0;34m\u001b[0m\u001b[0;34m\u001b[0m\u001b[0m\n\u001b[0;32m----> 3\u001b[0;31m         \u001b[0;32mraise\u001b[0m \u001b[0mValueError\u001b[0m\u001b[0;34m(\u001b[0m\u001b[0;34m'The vectors must have equal lengths.'\u001b[0m\u001b[0;34m)\u001b[0m\u001b[0;34m\u001b[0m\u001b[0;34m\u001b[0m\u001b[0m\n\u001b[0m\u001b[1;32m      4\u001b[0m     \u001b[0;32mreturn\u001b[0m \u001b[0mabs\u001b[0m\u001b[0;34m(\u001b[0m\u001b[0mu\u001b[0m \u001b[0;34m-\u001b[0m \u001b[0mv\u001b[0m\u001b[0;34m)\u001b[0m\u001b[0;34m.\u001b[0m\u001b[0msum\u001b[0m\u001b[0;34m(\u001b[0m\u001b[0;34m)\u001b[0m \u001b[0;32mif\u001b[0m \u001b[0;32mnot\u001b[0m \u001b[0mnorm\u001b[0m \u001b[0;32melse\u001b[0m \u001b[0mabs\u001b[0m\u001b[0;34m(\u001b[0m\u001b[0mu\u001b[0m \u001b[0;34m-\u001b[0m \u001b[0mv\u001b[0m\u001b[0;34m)\u001b[0m\u001b[0;34m.\u001b[0m\u001b[0mmean\u001b[0m\u001b[0;34m(\u001b[0m\u001b[0;34m)\u001b[0m\u001b[0;34m\u001b[0m\u001b[0;34m\u001b[0m\u001b[0m\n",
      "\u001b[0;31mValueError\u001b[0m: The vectors must have equal lengths."
     ]
    }
   ],
   "source": [
    "for term, vector_term in zip(terms, vector_terms):\n",
    "    print('Manhattan distance between root: {} and term: {} is {}'.\n",
    "          format(root_term,\n",
    "                 term,\n",
    "                 manhattan_distance(root_vector, vector_term, norm=False)\n",
    "                ))"
   ]
  },
  {
   "cell_type": "markdown",
   "metadata": {},
   "source": [
    "### manhattan distance (normalized)"
   ]
  },
  {
   "cell_type": "code",
   "execution_count": 44,
   "metadata": {},
   "outputs": [
    {
     "name": "stdout",
     "output_type": "stream",
     "text": [
      "Normalized Manhattan distance between root: Believe and term: beleive is 1.14\n",
      "Normalized Manhattan distance between root: Believe and term: bargain is 5.43\n"
     ]
    },
    {
     "ename": "ValueError",
     "evalue": "The vectors must have equal lengths.",
     "output_type": "error",
     "traceback": [
      "\u001b[0;31m---------------------------------------------------------------------------\u001b[0m",
      "\u001b[0;31mValueError\u001b[0m                                Traceback (most recent call last)",
      "\u001b[0;32m<ipython-input-44-7582e75cb8ab>\u001b[0m in \u001b[0;36m<module>\u001b[0;34m\u001b[0m\n\u001b[1;32m      3\u001b[0m            format(root_term,\n\u001b[1;32m      4\u001b[0m                   \u001b[0mterm\u001b[0m\u001b[0;34m,\u001b[0m\u001b[0;34m\u001b[0m\u001b[0;34m\u001b[0m\u001b[0m\n\u001b[0;32m----> 5\u001b[0;31m                   \u001b[0mround\u001b[0m\u001b[0;34m(\u001b[0m\u001b[0mmanhattan_distance\u001b[0m\u001b[0;34m(\u001b[0m\u001b[0mroot_vector\u001b[0m\u001b[0;34m,\u001b[0m \u001b[0mvector_term\u001b[0m\u001b[0;34m,\u001b[0m \u001b[0mnorm\u001b[0m\u001b[0;34m=\u001b[0m\u001b[0;32mTrue\u001b[0m\u001b[0;34m)\u001b[0m\u001b[0;34m,\u001b[0m\u001b[0;36m2\u001b[0m\u001b[0;34m)\u001b[0m\u001b[0;34m\u001b[0m\u001b[0;34m\u001b[0m\u001b[0m\n\u001b[0m\u001b[1;32m      6\u001b[0m                  ))\n",
      "\u001b[0;32m<ipython-input-41-f76af5f725e0>\u001b[0m in \u001b[0;36mmanhattan_distance\u001b[0;34m(u, v, norm)\u001b[0m\n\u001b[1;32m      1\u001b[0m \u001b[0;32mdef\u001b[0m \u001b[0mmanhattan_distance\u001b[0m\u001b[0;34m(\u001b[0m\u001b[0mu\u001b[0m\u001b[0;34m,\u001b[0m \u001b[0mv\u001b[0m\u001b[0;34m,\u001b[0m \u001b[0mnorm\u001b[0m\u001b[0;34m=\u001b[0m\u001b[0;32mFalse\u001b[0m\u001b[0;34m)\u001b[0m\u001b[0;34m:\u001b[0m\u001b[0;34m\u001b[0m\u001b[0;34m\u001b[0m\u001b[0m\n\u001b[1;32m      2\u001b[0m     \u001b[0;32mif\u001b[0m \u001b[0mu\u001b[0m\u001b[0;34m.\u001b[0m\u001b[0mshape\u001b[0m \u001b[0;34m!=\u001b[0m \u001b[0mv\u001b[0m\u001b[0;34m.\u001b[0m\u001b[0mshape\u001b[0m\u001b[0;34m:\u001b[0m\u001b[0;34m\u001b[0m\u001b[0;34m\u001b[0m\u001b[0m\n\u001b[0;32m----> 3\u001b[0;31m         \u001b[0;32mraise\u001b[0m \u001b[0mValueError\u001b[0m\u001b[0;34m(\u001b[0m\u001b[0;34m'The vectors must have equal lengths.'\u001b[0m\u001b[0;34m)\u001b[0m\u001b[0;34m\u001b[0m\u001b[0;34m\u001b[0m\u001b[0m\n\u001b[0m\u001b[1;32m      4\u001b[0m     \u001b[0;32mreturn\u001b[0m \u001b[0mabs\u001b[0m\u001b[0;34m(\u001b[0m\u001b[0mu\u001b[0m \u001b[0;34m-\u001b[0m \u001b[0mv\u001b[0m\u001b[0;34m)\u001b[0m\u001b[0;34m.\u001b[0m\u001b[0msum\u001b[0m\u001b[0;34m(\u001b[0m\u001b[0;34m)\u001b[0m \u001b[0;32mif\u001b[0m \u001b[0;32mnot\u001b[0m \u001b[0mnorm\u001b[0m \u001b[0;32melse\u001b[0m \u001b[0mabs\u001b[0m\u001b[0;34m(\u001b[0m\u001b[0mu\u001b[0m \u001b[0;34m-\u001b[0m \u001b[0mv\u001b[0m\u001b[0;34m)\u001b[0m\u001b[0;34m.\u001b[0m\u001b[0mmean\u001b[0m\u001b[0;34m(\u001b[0m\u001b[0;34m)\u001b[0m\u001b[0;34m\u001b[0m\u001b[0;34m\u001b[0m\u001b[0m\n",
      "\u001b[0;31mValueError\u001b[0m: The vectors must have equal lengths."
     ]
    }
   ],
   "source": [
    "for term, vector_term in zip(terms, vector_terms):\n",
    "    print ('Normalized Manhattan distance between root: {} and term: {} is {}'.\n",
    "           format(root_term,\n",
    "                  term,\n",
    "                  round(manhattan_distance(root_vector, vector_term, norm=True),2)\n",
    "                 ))"
   ]
  },
  {
   "cell_type": "markdown",
   "metadata": {},
   "source": [
    "# Euclidean Distance\n",
    "\n",
    "the Euclidean distance is also known as the Euclidean norm, L2 norm, or L2 distance \n",
    "\n",
    "and is defined as the shortest straight-line distance between two points\n",
    "\n",
    "Mathematically this can be denoted as :\n",
    "$$\n",
    "ed(u,v) = || u - v ||_2 = \\sqrt{\\sum_{i=1}^{n}{(u_i - v_i)^2}}\n",
    "$$\n",
    "\n",
    "참고 : \n",
    "- [https://en.wikipedia.org/wiki/Euclidean_distance](https://en.wikipedia.org/wiki/Euclidean_distance)\n",
    "- example\n",
    "  - Illustration for n=3, repeated application of the Pythagorean theorem yields the formula\n",
    "    - ![img](https://upload.wikimedia.org/wikipedia/commons/thumb/1/10/Euclidean_distance_3d_2_cropped.png/330px-Euclidean_distance_3d_2_cropped.png)"
   ]
  },
  {
   "cell_type": "code",
   "execution_count": 45,
   "metadata": {},
   "outputs": [],
   "source": [
    "def euclidean_distance(u,v):\n",
    "    if u.shape != v.shape:\n",
    "        raise ValueError('The vectors must have equal lengths.')\n",
    "    distance = np.sqrt(np.sum(np.square(u - v)))\n",
    "    return distance"
   ]
  },
  {
   "cell_type": "code",
   "execution_count": 46,
   "metadata": {},
   "outputs": [
    {
     "name": "stdout",
     "output_type": "stream",
     "text": [
      "root_vector=[ 98 101 108 105 101 118 101]\n",
      "vec_term1  =[ 98 101 108 101 105 118 101]\n",
      "ed(root_vector,vec_term1)=5.656854249492381\n"
     ]
    }
   ],
   "source": [
    "root_term = root\n",
    "root_vector = vec_root\n",
    "root_boc_vector = boc_root\n",
    "\n",
    "terms = [term1, term2, term3]\n",
    "vector_terms = [vec_term1, vec_term2, vec_term3]\n",
    "boc_vector_terms = [boc_term1, boc_term2, boc_term3]\n",
    "\n",
    "print('root_vector={}'.format(root_vector))\n",
    "print('vec_term1  ={}'.format(vec_term1))\n",
    "print('ed(root_vector,vec_term1)={}'.format(np.sqrt(np.sum([np.square(4),np.square(4)]))))"
   ]
  },
  {
   "cell_type": "markdown",
   "metadata": {},
   "source": [
    "### euclidean distance"
   ]
  },
  {
   "cell_type": "code",
   "execution_count": 48,
   "metadata": {},
   "outputs": [
    {
     "name": "stdout",
     "output_type": "stream",
     "text": [
      "Euclidean distance between root: Believe and term: beleive is 5.66\n",
      "Euclidean distance between root: Believe and term: bargain is 17.94\n"
     ]
    },
    {
     "ename": "ValueError",
     "evalue": "The vectors must have equal lengths.",
     "output_type": "error",
     "traceback": [
      "\u001b[0;31m---------------------------------------------------------------------------\u001b[0m",
      "\u001b[0;31mValueError\u001b[0m                                Traceback (most recent call last)",
      "\u001b[0;32m<ipython-input-48-10f033228e27>\u001b[0m in \u001b[0;36m<module>\u001b[0;34m\u001b[0m\n\u001b[1;32m      3\u001b[0m            format(root_term,\n\u001b[1;32m      4\u001b[0m                   \u001b[0mterm\u001b[0m\u001b[0;34m,\u001b[0m\u001b[0;34m\u001b[0m\u001b[0;34m\u001b[0m\u001b[0m\n\u001b[0;32m----> 5\u001b[0;31m                   \u001b[0mround\u001b[0m\u001b[0;34m(\u001b[0m\u001b[0meuclidean_distance\u001b[0m\u001b[0;34m(\u001b[0m\u001b[0mroot_vector\u001b[0m\u001b[0;34m,\u001b[0m \u001b[0mvector_term\u001b[0m\u001b[0;34m)\u001b[0m\u001b[0;34m,\u001b[0m\u001b[0;36m2\u001b[0m\u001b[0;34m)\u001b[0m\u001b[0;34m\u001b[0m\u001b[0;34m\u001b[0m\u001b[0m\n\u001b[0m\u001b[1;32m      6\u001b[0m                  ))\n",
      "\u001b[0;32m<ipython-input-45-654771f3cf5d>\u001b[0m in \u001b[0;36meuclidean_distance\u001b[0;34m(u, v)\u001b[0m\n\u001b[1;32m      1\u001b[0m \u001b[0;32mdef\u001b[0m \u001b[0meuclidean_distance\u001b[0m\u001b[0;34m(\u001b[0m\u001b[0mu\u001b[0m\u001b[0;34m,\u001b[0m\u001b[0mv\u001b[0m\u001b[0;34m)\u001b[0m\u001b[0;34m:\u001b[0m\u001b[0;34m\u001b[0m\u001b[0;34m\u001b[0m\u001b[0m\n\u001b[1;32m      2\u001b[0m     \u001b[0;32mif\u001b[0m \u001b[0mu\u001b[0m\u001b[0;34m.\u001b[0m\u001b[0mshape\u001b[0m \u001b[0;34m!=\u001b[0m \u001b[0mv\u001b[0m\u001b[0;34m.\u001b[0m\u001b[0mshape\u001b[0m\u001b[0;34m:\u001b[0m\u001b[0;34m\u001b[0m\u001b[0;34m\u001b[0m\u001b[0m\n\u001b[0;32m----> 3\u001b[0;31m         \u001b[0;32mraise\u001b[0m \u001b[0mValueError\u001b[0m\u001b[0;34m(\u001b[0m\u001b[0;34m'The vectors must have equal lengths.'\u001b[0m\u001b[0;34m)\u001b[0m\u001b[0;34m\u001b[0m\u001b[0;34m\u001b[0m\u001b[0m\n\u001b[0m\u001b[1;32m      4\u001b[0m     \u001b[0mdistance\u001b[0m \u001b[0;34m=\u001b[0m \u001b[0mnp\u001b[0m\u001b[0;34m.\u001b[0m\u001b[0msqrt\u001b[0m\u001b[0;34m(\u001b[0m\u001b[0mnp\u001b[0m\u001b[0;34m.\u001b[0m\u001b[0msum\u001b[0m\u001b[0;34m(\u001b[0m\u001b[0mnp\u001b[0m\u001b[0;34m.\u001b[0m\u001b[0msquare\u001b[0m\u001b[0;34m(\u001b[0m\u001b[0mu\u001b[0m \u001b[0;34m-\u001b[0m \u001b[0mv\u001b[0m\u001b[0;34m)\u001b[0m\u001b[0;34m)\u001b[0m\u001b[0;34m)\u001b[0m\u001b[0;34m\u001b[0m\u001b[0;34m\u001b[0m\u001b[0m\n\u001b[1;32m      5\u001b[0m     \u001b[0;32mreturn\u001b[0m \u001b[0mdistance\u001b[0m\u001b[0;34m\u001b[0m\u001b[0;34m\u001b[0m\u001b[0m\n",
      "\u001b[0;31mValueError\u001b[0m: The vectors must have equal lengths."
     ]
    }
   ],
   "source": [
    "for term, vector_term in zip(terms, vector_terms):\n",
    "    print ('Euclidean distance between root: {} and term: {} is {}'.\n",
    "           format(root_term,\n",
    "                  term,\n",
    "                  round(euclidean_distance(root_vector, vector_term),2)\n",
    "                 ))"
   ]
  },
  {
   "cell_type": "markdown",
   "metadata": {},
   "source": [
    "## Levenstein Edit Distance\n",
    "\n",
    "\n",
    "\n",
    "$$\n",
    "l{d}_{u,v}\\left(i,j\\right) = \\left\\{\\begin{array}{cc}\\hfill max\\left(i,j\\right)\\hfill & \\hfill if\\kern0.5em  min\\left(i,j\\right)=0\\hfill \\\\ {}\\hfill min\\left\\{\\begin{array}{c}\\hfill \\begin{array}{l}l{d}_{u,v}\\left(i-1,j\\right)+1\\\\ {}l{d}_{u,v}\\left(i,j-1\\right)+1\\end{array}\\hfill \\\\ {}\\hfill l{d}_{u,v}\\left(i-1,j-1\\right)+{C}_{ui\\ne vj}\\hfill \\end{array}\\right\\}\\hfill & \\hfill otherwise\\hfill \\end{array}\\right\\} \n",
    "$$\n",
    "\n",
    "$$\n",
    "{C}_{u_i\\ \\ne\\ {v}_j} = \\left\\{\\begin{array}{c}\\hfill 1\\kern1em  if\\ {u}_i\\ne {v}_j\\hfill \\\\ {}\\hfill 0\\kern1em  if\\kern0.5em {u}_i={v}_j\\hfill \\end{array}\\right\\} \n",
    "$$\n",
    "\n",
    "참고 : \n",
    "- https://en.wikipedia.org/wiki/Levenshtein_distance\n",
    "- https://www.cuelogic.com/blog/the-levenshtein-algorithm\n",
    "\n",
    "<h4>Example</h4>\n",
    "For example, the Levenshtein distance between \"kitten\" and \"sitting\" is 3, <br/>\n",
    "since the following three edits change one into the other, and there is no way to do it with fewer than three edits:\n",
    "\n",
    "1. kitten → sitten (substitution of \"s\" for \"k\")\n",
    "2. sitten → sittin (substitution of \"i\" for \"e\")\n",
    "3. sittin → sitting (insertion of \"g\" at the end)."
   ]
  },
  {
   "cell_type": "code",
   "execution_count": 49,
   "metadata": {},
   "outputs": [],
   "source": [
    "import copy\n",
    "import pandas as pd\n",
    "\n",
    "def levenshtein_edit_distance(u, v):\n",
    "    # convert to lower case\n",
    "    u = u.lower()\n",
    "    v = v.lower()\n",
    "    # base cases\n",
    "    if u == v: return 0\n",
    "    elif len(u) == 0: return len(v)\n",
    "    elif len(v) == 0: return len(u)\n",
    "    # initialize edit distance matrix\n",
    "    edit_matrix = []\n",
    "    # initialize two distance matrices\n",
    "    du = [0] * (len(v) + 1)\n",
    "    dv = [0] * (len(v) + 1)\n",
    "    # du: the previous row of edit distances\n",
    "    for i in range(len(du)):\n",
    "        du[i] = i\n",
    "    # dv : the current row of edit distances\n",
    "    for i in range(len(u)):\n",
    "        dv[0] = i + 1\n",
    "        # compute cost as per algorithm\n",
    "        for j in range(len(v)):\n",
    "            cost = 0 if u[i] == v[j] else 1\n",
    "            dv[j + 1] = min(dv[j] + 1, du[j + 1] + 1, du[j] + cost)\n",
    "        # assign dv to du for next iteration\n",
    "        for j in range(len(du)):\n",
    "            du[j] = dv[j]\n",
    "        # copy dv to the edit matrix\n",
    "        edit_matrix.append(copy.copy(dv))\n",
    "    # compute the final edit distance and edit matrix\n",
    "    distance = dv[len(v)]\n",
    "    edit_matrix = np.array(edit_matrix)\n",
    "    edit_matrix = edit_matrix.T\n",
    "    edit_matrix = edit_matrix[1:,]\n",
    "    edit_matrix = pd.DataFrame(data=edit_matrix,\n",
    "                               index=list(v),\n",
    "                               columns=list(u))\n",
    "    return distance, edit_matrix"
   ]
  },
  {
   "cell_type": "code",
   "execution_count": 50,
   "metadata": {},
   "outputs": [
    {
     "name": "stdout",
     "output_type": "stream",
     "text": [
      "Computing distance between root: Believe and term: beleive\n",
      "Levenshtein edit distance is 2\n",
      "The complete edit distance matrix is depicted below\n",
      "   b  e  l  i  e  v  e\n",
      "b  0  1  2  3  4  5  6\n",
      "e  1  0  1  2  3  4  5\n",
      "l  2  1  0  1  2  3  4\n",
      "e  3  2  1  1  1  2  3\n",
      "i  4  3  2  1  2  2  3\n",
      "v  5  4  3  2  2  2  3\n",
      "e  6  5  4  3  2  3  2\n",
      "------------------------------\n",
      "Computing distance between root: Believe and term: bargain\n",
      "Levenshtein edit distance is 6\n",
      "The complete edit distance matrix is depicted below\n",
      "   b  e  l  i  e  v  e\n",
      "b  0  1  2  3  4  5  6\n",
      "a  1  1  2  3  4  5  6\n",
      "r  2  2  2  3  4  5  6\n",
      "g  3  3  3  3  4  5  6\n",
      "a  4  4  4  4  4  5  6\n",
      "i  5  5  5  4  5  5  6\n",
      "n  6  6  6  5  5  6  6\n",
      "------------------------------\n",
      "Computing distance between root: Believe and term: Elephant\n",
      "Levenshtein edit distance is 7\n",
      "The complete edit distance matrix is depicted below\n",
      "   b  e  l  i  e  v  e\n",
      "e  1  1  2  3  4  5  6\n",
      "l  2  2  1  2  3  4  5\n",
      "e  3  2  2  2  2  3  4\n",
      "p  4  3  3  3  3  3  4\n",
      "h  5  4  4  4  4  4  4\n",
      "a  6  5  5  5  5  5  5\n",
      "n  7  6  6  6  6  6  6\n",
      "t  8  7  7  7  7  7  7\n",
      "------------------------------\n"
     ]
    }
   ],
   "source": [
    "for term in terms:\n",
    "    edit_d, edit_m = levenshtein_edit_distance(root_term, term)\n",
    "    print ('Computing distance between root: {} and term: {}'.format(root_term, term))\n",
    "    print ('Levenshtein edit distance is {}'.format(edit_d))\n",
    "    print ('The complete edit distance matrix is depicted below')\n",
    "    print (edit_m)\n",
    "    print ('-'*30)"
   ]
  },
  {
   "cell_type": "markdown",
   "metadata": {},
   "source": [
    "## Cosine Similarity\n",
    "\n",
    "dot product between two vectors :\n",
    "\n",
    "$$ u\\cdot v = \\left|\\right|u\\left|\\right|\\kern0.5em \\left|\\right|v\\left|\\right| \\cos \\left(\\theta \\right) $$\n",
    "\n",
    "Cosine similarity : \n",
    "\n",
    "$$ cs\\left(u,\\ v\\right)= \\cos \\left(\\theta \\right) = \\frac{u\\cdot v}{\\left|\\left|u\\left|\\right|\\kern0.5em \\left|\\right|v\\right|\\right|} = \\frac{{\\displaystyle {\\sum}_{i=1}^n}{u}_i\\ {v}_i}{\\sqrt{{\\displaystyle {\\sum}_{i=1}^n}{u}_i^2}\\ \\sqrt{{\\displaystyle {\\sum}_{i=1}^n}{v}_i^2}} $$\n",
    "\n",
    "Cosine distance :\n",
    "$$ cd\\left(u,\\ v\\right)=1 - cs\\left(u,\\ v\\right)=1 - \\cos \\left(\\theta \\right)=1 - \\frac{u\\cdot v}{\\left|\\left|u\\left|\\right|\\kern0.5em \\left|\\right|v\\right|\\right|} = \\kern0.5em 1 - \\frac{{\\displaystyle {\\sum}_{i=1}^n}{u}_i\\ {v}_i}{\\sqrt{{\\displaystyle {\\sum}_{i=1}^n}{u}_i^2}\\ \\sqrt{{\\displaystyle {\\sum}_{i=1}^n}{v}_i^2}} $$\n",
    "\n",
    "![img](https://learning.oreilly.com/library/view/text-analytics-with/9781484223871/A427287_1_En_6_Fig2_HTML.jpg)\n",
    "\n",
    "참고 : \n",
    "- [https://en.wikipedia.org/wiki/Cosine_similarity](https://en.wikipedia.org/wiki/Cosine_similarity)\n",
    "\n",
    "Examples:\n",
    "- ![img](http://i0.wp.com/techinpink.com/wp-content/uploads/2017/07/cosine.png?w=697)"
   ]
  },
  {
   "cell_type": "code",
   "execution_count": 22,
   "metadata": {},
   "outputs": [],
   "source": [
    "def cosine_distance(u, v):\n",
    "    distance = 1.0 - (np.dot(u, v) / \n",
    "                        (np.sqrt(sum(np.square(u))) * np.sqrt(sum(np.square(v))))\n",
    "                     )\n",
    "    return distance"
   ]
  },
  {
   "cell_type": "code",
   "execution_count": 51,
   "metadata": {},
   "outputs": [
    {
     "name": "stdout",
     "output_type": "stream",
     "text": [
      "root_vector=[ 98 101 108 105 101 118 101]\n",
      "vec_term1  =[ 98 101 108 101 105 118 101]\n",
      "ed(root_vector,vec_term1)=5.656854249492381\n"
     ]
    }
   ],
   "source": [
    "root_term = root\n",
    "root_vector = vec_root\n",
    "root_boc_vector = boc_root\n",
    "\n",
    "terms = [term1, term2, term3]\n",
    "vector_terms = [vec_term1, vec_term2, vec_term3]\n",
    "boc_vector_terms = [boc_term1, boc_term2, boc_term3]\n",
    "\n",
    "print('root_vector={}'.format(root_vector))\n",
    "print('vec_term1  ={}'.format(vec_term1))\n",
    "print('ed(root_vector,vec_term1)={}'.format(np.sqrt(np.sum([np.square(4),np.square(4)]))))"
   ]
  },
  {
   "cell_type": "code",
   "execution_count": 52,
   "metadata": {},
   "outputs": [
    {
     "name": "stdout",
     "output_type": "stream",
     "text": [
      "Analyzing similarity between root: Believe and term: beleive\n"
     ]
    },
    {
     "ename": "NameError",
     "evalue": "name 'cosine_distance' is not defined",
     "output_type": "error",
     "traceback": [
      "\u001b[0;31m---------------------------------------------------------------------------\u001b[0m",
      "\u001b[0;31mNameError\u001b[0m                                 Traceback (most recent call last)",
      "\u001b[0;32m<ipython-input-52-6d1083cc18df>\u001b[0m in \u001b[0;36m<module>\u001b[0;34m\u001b[0m\n\u001b[1;32m      2\u001b[0m \u001b[0;32mfor\u001b[0m \u001b[0mterm\u001b[0m\u001b[0;34m,\u001b[0m \u001b[0mboc_term\u001b[0m \u001b[0;32min\u001b[0m \u001b[0mzip\u001b[0m\u001b[0;34m(\u001b[0m\u001b[0mterms\u001b[0m\u001b[0;34m,\u001b[0m \u001b[0mboc_vector_terms\u001b[0m\u001b[0;34m)\u001b[0m\u001b[0;34m:\u001b[0m\u001b[0;34m\u001b[0m\u001b[0;34m\u001b[0m\u001b[0m\n\u001b[1;32m      3\u001b[0m     \u001b[0mprint\u001b[0m \u001b[0;34m(\u001b[0m\u001b[0;34m'Analyzing similarity between root: {} and term: {}'\u001b[0m\u001b[0;34m.\u001b[0m\u001b[0mformat\u001b[0m\u001b[0;34m(\u001b[0m\u001b[0mroot_term\u001b[0m\u001b[0;34m,\u001b[0m \u001b[0mterm\u001b[0m\u001b[0;34m)\u001b[0m\u001b[0;34m)\u001b[0m\u001b[0;34m\u001b[0m\u001b[0;34m\u001b[0m\u001b[0m\n\u001b[0;32m----> 4\u001b[0;31m     \u001b[0mdistance\u001b[0m \u001b[0;34m=\u001b[0m \u001b[0mround\u001b[0m\u001b[0;34m(\u001b[0m\u001b[0mcosine_distance\u001b[0m\u001b[0;34m(\u001b[0m\u001b[0mroot_boc_vector\u001b[0m\u001b[0;34m,\u001b[0m \u001b[0mboc_term\u001b[0m\u001b[0;34m)\u001b[0m\u001b[0;34m,\u001b[0m\u001b[0;36m2\u001b[0m\u001b[0;34m)\u001b[0m\u001b[0;34m\u001b[0m\u001b[0;34m\u001b[0m\u001b[0m\n\u001b[0m\u001b[1;32m      5\u001b[0m     \u001b[0msimilarity\u001b[0m \u001b[0;34m=\u001b[0m \u001b[0;36m1\u001b[0m \u001b[0;34m-\u001b[0m \u001b[0mdistance\u001b[0m\u001b[0;34m\u001b[0m\u001b[0;34m\u001b[0m\u001b[0m\n\u001b[1;32m      6\u001b[0m     \u001b[0mprint\u001b[0m \u001b[0;34m(\u001b[0m\u001b[0;34m'Cosine distance  is {}'\u001b[0m\u001b[0;34m.\u001b[0m\u001b[0mformat\u001b[0m\u001b[0;34m(\u001b[0m\u001b[0mdistance\u001b[0m\u001b[0;34m)\u001b[0m\u001b[0;34m)\u001b[0m\u001b[0;34m\u001b[0m\u001b[0;34m\u001b[0m\u001b[0m\n",
      "\u001b[0;31mNameError\u001b[0m: name 'cosine_distance' is not defined"
     ]
    }
   ],
   "source": [
    "# COSINE DISTANCE\\SIMILARITY DEMO\n",
    "for term, boc_term in zip(terms, boc_vector_terms):\n",
    "    print ('Analyzing similarity between root: {} and term: {}'.format(root_term, term))\n",
    "    distance = round(cosine_distance(root_boc_vector, boc_term),2)\n",
    "    similarity = 1 - distance                                                           \n",
    "    print ('Cosine distance  is {}'.format(distance))\n",
    "    print ('Cosine similarity  is {}'.format(similarity))\n",
    "    print ('-'*40)"
   ]
  }
 ],
 "metadata": {
  "kernelspec": {
   "display_name": "Python 3",
   "language": "python",
   "name": "python3"
  },
  "language_info": {
   "codemirror_mode": {
    "name": "ipython",
    "version": 3
   },
   "file_extension": ".py",
   "mimetype": "text/x-python",
   "name": "python",
   "nbconvert_exporter": "python",
   "pygments_lexer": "ipython3",
   "version": "3.6.7"
  }
 },
 "nbformat": 4,
 "nbformat_minor": 2
}
