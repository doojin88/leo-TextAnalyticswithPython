{
 "cells": [
  {
   "cell_type": "markdown",
   "metadata": {},
   "source": [
    "# Topic Modeling"
   ]
  },
  {
   "cell_type": "code",
   "execution_count": 1,
   "metadata": {},
   "outputs": [
    {
     "name": "stderr",
     "output_type": "stream",
     "text": [
      "paramiko missing, opening SSH/SCP/SFTP paths will be disabled.  `pip install paramiko` to suppress\n"
     ]
    }
   ],
   "source": [
    "from gensim import corpora, models\n",
    "from normalization import normalize_corpus\n",
    "import numpy as np"
   ]
  },
  {
   "cell_type": "code",
   "execution_count": 2,
   "metadata": {},
   "outputs": [],
   "source": [
    "toy_corpus = [\"The fox jumps over the dog\",\n",
    "\"The fox is very clever and quick\",\n",
    "\"The dog is slow and lazy\",\n",
    "\"The cat is smarter than the fox and the dog\",\n",
    "\"Python is an excellent programming language\",\n",
    "\"Java and Ruby are other programming languages\",\n",
    "\"Python and Java are very popular programming languages\",\n",
    "\"Python programs are smaller than Java programs\"]"
   ]
  },
  {
   "cell_type": "markdown",
   "metadata": {},
   "source": [
    "# LATENT SEMANTIC INDEXING"
   ]
  },
  {
   "cell_type": "code",
   "execution_count": 3,
   "metadata": {},
   "outputs": [
    {
     "name": "stdout",
     "output_type": "stream",
     "text": [
      "{'dog': 0, 'fox': 1, 'jump': 2, 'clever': 3, 'quick': 4, 'lazy': 5, 'slow': 6, 'cat': 7, 'smarter': 8, 'excellent': 9, 'language': 10, 'programming': 11, 'python': 12, 'java': 13, 'ruby': 14, 'popular': 15, 'program': 16, 'small': 17}\n",
      "Topic #1\n",
      "-0.459*\"programming\" + -0.459*\"language\" + -0.344*\"java\" + -0.344*\"python\" + -0.336*\"popular\" + -0.318*\"excellent\" + -0.318*\"ruby\" + -0.148*\"program\" + -0.074*\"small\" + 0.000*\"quick\"\n",
      "\n",
      "Topic #2\n",
      "-0.459*\"dog\" + -0.459*\"fox\" + -0.444*\"jump\" + -0.322*\"cat\" + -0.322*\"smarter\" + -0.208*\"lazy\" + -0.208*\"slow\" + -0.208*\"clever\" + -0.208*\"quick\" + -0.000*\"popular\"\n",
      "\n"
     ]
    }
   ],
   "source": [
    "# LSI topic model\n",
    "norm_tokenized_corpus = normalize_corpus(toy_corpus, tokenize=True)\n",
    "norm_tokenized_corpus\n",
    "\n",
    "dictionary = corpora.Dictionary(norm_tokenized_corpus)\n",
    "print (dictionary.token2id)\n",
    "\n",
    "corpus = [dictionary.doc2bow(text) for text in norm_tokenized_corpus]\n",
    "corpus\n",
    "\n",
    "tfidf = models.TfidfModel(corpus)\n",
    "corpus_tfidf = tfidf[corpus]\n",
    "\n",
    "total_topics = 2\n",
    "\n",
    "lsi = models.LsiModel(corpus_tfidf, \n",
    "                      id2word=dictionary, \n",
    "                      num_topics=total_topics)\n",
    "                      \n",
    "for index, topic in lsi.print_topics(total_topics):\n",
    "    print ('Topic #'+str(index+1))\n",
    "    print (topic)\n",
    "    print ()             \n",
    "    \n"
   ]
  },
  {
   "cell_type": "code",
   "execution_count": 4,
   "metadata": {},
   "outputs": [],
   "source": [
    "\n",
    "def print_topics_gensim(topic_model, total_topics=1,\n",
    "                        weight_threshold=0.0001,\n",
    "                        display_weights=False,\n",
    "                        num_terms=None):\n",
    "    \n",
    "    for index in range(total_topics):\n",
    "        topic = topic_model.show_topic(index)\n",
    "        topic = [(word, round(wt,2)) \n",
    "                 for word, wt in topic \n",
    "                 if abs(wt) >= weight_threshold]\n",
    "        if display_weights:\n",
    "            print ('Topic #'+str(index+1)+' with weights')\n",
    "            print (topic[:num_terms] if num_terms else topic)\n",
    "        else:\n",
    "            print ('Topic #'+str(index+1)+' without weights')\n",
    "            tw = [term for term, wt in topic]\n",
    "            print (tw[:num_terms] if num_terms else tw)\n",
    "        print ()\n",
    "    \n"
   ]
  },
  {
   "cell_type": "code",
   "execution_count": 5,
   "metadata": {},
   "outputs": [
    {
     "name": "stdout",
     "output_type": "stream",
     "text": [
      "Topic #1 with weights\n",
      "[('programming', -0.46), ('language', -0.46), ('java', -0.34), ('python', -0.34), ('popular', -0.34)]\n",
      "\n",
      "Topic #2 with weights\n",
      "[('dog', -0.46), ('fox', -0.46), ('jump', -0.44), ('cat', -0.32), ('smarter', -0.32)]\n",
      "\n"
     ]
    }
   ],
   "source": [
    "# print topics without weights\n",
    "print_topics_gensim(topic_model=lsi,\n",
    "                    total_topics=total_topics,\n",
    "                    num_terms=5,\n",
    "                    display_weights=True)"
   ]
  },
  {
   "cell_type": "markdown",
   "metadata": {},
   "source": [
    "# LSI custom built topic model   "
   ]
  },
  {
   "cell_type": "code",
   "execution_count": 7,
   "metadata": {},
   "outputs": [],
   "source": [
    "from utils import build_feature_matrix, low_rank_svd\n",
    "\n",
    "norm_corpus = normalize_corpus(toy_corpus)\n",
    "\n",
    "vectorizer, tfidf_matrix = build_feature_matrix(norm_corpus, \n",
    "                                    feature_type='tfidf')\n",
    "td_matrix = tfidf_matrix.transpose()\n",
    "                              \n",
    "td_matrix = td_matrix.multiply(td_matrix > 0)\n",
    "\n",
    "total_topics = 2\n",
    "feature_names = vectorizer.get_feature_names()\n",
    "\n",
    "u, s, vt = low_rank_svd(td_matrix, singular_count=total_topics)\n",
    "weights = u.transpose() * s[:, None]\n",
    "\n"
   ]
  },
  {
   "cell_type": "code",
   "execution_count": 8,
   "metadata": {},
   "outputs": [],
   "source": [
    "\n",
    "def get_topics_terms_weights(weights, feature_names):\n",
    "    feature_names = np.array(feature_names)\n",
    "    sorted_indices = np.array([list(row[::-1]) \n",
    "                           for row \n",
    "                           in np.argsort(np.abs(weights))])\n",
    "    sorted_weights = np.array([list(wt[index]) \n",
    "                               for wt, index \n",
    "                               in zip(weights,sorted_indices)])\n",
    "    sorted_terms = np.array([list(feature_names[row]) \n",
    "                             for row \n",
    "                             in sorted_indices])\n",
    "    \n",
    "    topics = [np.vstack((terms.T, \n",
    "                     term_weights.T)).T \n",
    "              for terms, term_weights \n",
    "              in zip(sorted_terms, sorted_weights)]     \n",
    "    \n",
    "    return topics            \n",
    "  "
   ]
  },
  {
   "cell_type": "code",
   "execution_count": 9,
   "metadata": {},
   "outputs": [],
   "source": [
    "\n",
    "                       \n",
    "def print_topics_udf(topics, total_topics=1,\n",
    "                     weight_threshold=0.0001,\n",
    "                     display_weights=False,\n",
    "                     num_terms=None):\n",
    "    \n",
    "    for index in range(total_topics):\n",
    "        topic = topics[index]\n",
    "        topic = [(term, float(wt))\n",
    "                 for term, wt in topic]\n",
    "        topic = [(word, round(wt,2)) \n",
    "                 for word, wt in topic \n",
    "                 if abs(wt) >= weight_threshold]\n",
    "                     \n",
    "        if display_weights:\n",
    "            print ('Topic #'+str(index+1)+' with weights')\n",
    "            print (topic[:num_terms] if num_terms else topic)\n",
    "        else:\n",
    "            print ('Topic #'+str(index+1)+' without weights')\n",
    "            tw = [term for term, wt in topic]\n",
    "            print (tw[:num_terms] if num_terms else tw)\n",
    "        print ()"
   ]
  },
  {
   "cell_type": "code",
   "execution_count": 10,
   "metadata": {},
   "outputs": [],
   "source": [
    "topics = get_topics_terms_weights(weights, feature_names)        "
   ]
  },
  {
   "cell_type": "code",
   "execution_count": 13,
   "metadata": {},
   "outputs": [
    {
     "data": {
      "text/plain": [
       "array([['dog', '-0.7237079788968448'],\n",
       "       ['fox', '-0.7237079788968448'],\n",
       "       ['jump', '-0.4301012144560848'],\n",
       "       ['smarter', '-0.33636067013751125'],\n",
       "       ['cat', '-0.33636067013751125'],\n",
       "       ['quick', '-0.23425077434507793'],\n",
       "       ['clever', '-0.23425077434507793'],\n",
       "       ['slow', '-0.23425077434507774'],\n",
       "       ['lazy', '-0.23425077434507774'],\n",
       "       ['program', '2.0095334320133576e-16'],\n",
       "       ['small', '1.0047667160066788e-16'],\n",
       "       ['programming', '-6.227934847766131e-17'],\n",
       "       ['language', '-6.227934847766131e-17'],\n",
       "       ['excellent', '-4.0397983290353874e-17'],\n",
       "       ['java', '3.960015795038692e-17'],\n",
       "       ['python', '3.6027395287725075e-17'],\n",
       "       ['ruby', '-3.545771880776652e-17'],\n",
       "       ['popular', '-1.0261536110375495e-17']], dtype='<U32')"
      ]
     },
     "execution_count": 13,
     "metadata": {},
     "output_type": "execute_result"
    }
   ],
   "source": [
    "topics[0]"
   ]
  },
  {
   "cell_type": "code",
   "execution_count": 14,
   "metadata": {},
   "outputs": [
    {
     "name": "stdout",
     "output_type": "stream",
     "text": [
      "Topic #1 without weights\n",
      "['dog', 'fox', 'jump', 'smarter', 'cat', 'quick', 'clever', 'slow', 'lazy']\n",
      "\n",
      "Topic #2 without weights\n",
      "['programming', 'language', 'python', 'java', 'popular', 'ruby', 'excellent', 'program']\n",
      "\n"
     ]
    }
   ],
   "source": [
    "print_topics_udf(topics=topics, total_topics=total_topics, weight_threshold=0.15, display_weights=False)"
   ]
  },
  {
   "cell_type": "code",
   "execution_count": null,
   "metadata": {},
   "outputs": [],
   "source": []
  }
 ],
 "metadata": {
  "kernelspec": {
   "display_name": "Python (py3)",
   "language": "python",
   "name": "py3"
  },
  "language_info": {
   "codemirror_mode": {
    "name": "ipython",
    "version": 3
   },
   "file_extension": ".py",
   "mimetype": "text/x-python",
   "name": "python",
   "nbconvert_exporter": "python",
   "pygments_lexer": "ipython3",
   "version": "3.6.7"
  }
 },
 "nbformat": 4,
 "nbformat_minor": 2
}
