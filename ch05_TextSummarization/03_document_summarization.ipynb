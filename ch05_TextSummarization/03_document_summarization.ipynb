{
 "cells": [
  {
   "cell_type": "markdown",
   "metadata": {},
   "source": [
    "# Automated Document Summarization"
   ]
  },
  {
   "cell_type": "code",
   "execution_count": 1,
   "metadata": {},
   "outputs": [],
   "source": [
    "from normalization import normalize_corpus, parse_document\n",
    "from utils import build_feature_matrix, low_rank_svd\n",
    "import numpy as np"
   ]
  },
  {
   "cell_type": "code",
   "execution_count": 2,
   "metadata": {},
   "outputs": [],
   "source": [
    "toy_text = \"\"\"\n",
    "Elephants are large mammals of the family Elephantidae \n",
    "and the order Proboscidea. Two species are traditionally recognised, \n",
    "the African elephant and the Asian elephant. Elephants are scattered \n",
    "throughout sub-Saharan Africa, South Asia, and Southeast Asia. Male \n",
    "African elephants are the largest extant terrestrial animals. All \n",
    "elephants have a long trunk used for many purposes, \n",
    "particularly breathing, lifting water and grasping objects. Their \n",
    "incisors grow into tusks, which can serve as weapons and as tools \n",
    "for moving objects and digging. Elephants' large ear flaps help \n",
    "to control their body temperature. Their pillar-like legs can \n",
    "carry their great weight. African elephants have larger ears \n",
    "and concave backs while Asian elephants have smaller ears \n",
    "and convex or level backs.  \n",
    "\"\"\""
   ]
  },
  {
   "cell_type": "code",
   "execution_count": 3,
   "metadata": {},
   "outputs": [
    {
     "name": "stderr",
     "output_type": "stream",
     "text": [
      "paramiko missing, opening SSH/SCP/SFTP paths will be disabled.  `pip install paramiko` to suppress\n"
     ]
    }
   ],
   "source": [
    "from gensim.summarization import summarize, keywords\n",
    "\n",
    "def text_summarization_gensim(text, summary_ratio=0.5):\n",
    "    \n",
    "    summary = summarize(text, split=True, ratio=summary_ratio)\n",
    "    for sentence in summary:\n",
    "        print (sentence)"
   ]
  },
  {
   "cell_type": "code",
   "execution_count": 4,
   "metadata": {},
   "outputs": [
    {
     "name": "stdout",
     "output_type": "stream",
     "text": [
      "Two species are traditionally recognised,  the African elephant and the Asian elephant.\n",
      "All  elephants have a long trunk used for many purposes,  particularly breathing, lifting water and grasping objects.\n",
      "Elephants' large ear flaps help  to control their body temperature.\n"
     ]
    }
   ],
   "source": [
    "docs = parse_document(toy_text)\n",
    "text = ' '.join(docs)\n",
    "text_summarization_gensim(text, summary_ratio=0.4)"
   ]
  },
  {
   "cell_type": "code",
   "execution_count": 5,
   "metadata": {},
   "outputs": [
    {
     "name": "stdout",
     "output_type": "stream",
     "text": [
      "Total Sentences in Document: 9\n"
     ]
    }
   ],
   "source": [
    "sentences = parse_document(toy_text)\n",
    "norm_sentences = normalize_corpus(sentences,lemmatize=False) \n",
    "\n",
    "total_sentences = len(norm_sentences)\n",
    "print ('Total Sentences in Document:', total_sentences   )"
   ]
  },
  {
   "cell_type": "markdown",
   "metadata": {},
   "source": [
    "## LATENT SEMANTIC ANALYSIS"
   ]
  },
  {
   "cell_type": "code",
   "execution_count": 24,
   "metadata": {},
   "outputs": [
    {
     "name": "stdout",
     "output_type": "stream",
     "text": [
      "[2.74 3.61 4.26 3.83 2.1  5.77 3.28 4.63 5.84 3.39 1.33 3.95 1.76]\n"
     ]
    }
   ],
   "source": [
    "num_sentences = 3\n",
    "num_topics = 3\n",
    "\n",
    "vec, dt_matrix = build_feature_matrix(sentences, feature_type='frequency')\n",
    "\n",
    "td_matrix = dt_matrix.transpose()\n",
    "td_matrix = td_matrix.multiply(td_matrix > 0)\n",
    "\n",
    "u, s, vt = low_rank_svd(td_matrix, singular_count=num_topics)  \n",
    "                                         \n",
    "sv_threshold = 0.5\n",
    "min_sigma_value = max(s) * sv_threshold\n",
    "s[s < min_sigma_value] = 0\n",
    "\n",
    "salience_scores = np.sqrt(np.dot(np.square(s), np.square(vt)))\n",
    "print (np.round(salience_scores, 2))\n"
   ]
  },
  {
   "cell_type": "code",
   "execution_count": 25,
   "metadata": {},
   "outputs": [
    {
     "name": "stdout",
     "output_type": "stream",
     "text": [
      "[5 7 8]\n",
      "Skyrim continues the open world tradition of its predecessors by allowing the  player to travel anywhere in the game world at any time, and to  ignore or postpone the main storyline indefinitely.\n",
      "Players may navigate the game world more quickly by riding horses,  or by utilizing a fast-travel system which allows them to warp to previously  Players have the option to develop their character.\n",
      "At the beginning of the game,  players create their character by selecting one of several races,  including humans, orcs, elves and anthropomorphic cat or lizard-like creatures,  and then customizing their character's appearance.discovered locations.\n"
     ]
    }
   ],
   "source": [
    "\n",
    "top_sentence_indices = salience_scores.argsort()[-num_sentences:][::-1]\n",
    "top_sentence_indices.sort()\n",
    "print (top_sentence_indices)\n",
    "\n",
    "for index in top_sentence_indices:\n",
    "    print (sentences[index])"
   ]
  },
  {
   "cell_type": "code",
   "execution_count": 26,
   "metadata": {},
   "outputs": [],
   "source": [
    "def lsa_text_summarizer(documents, num_sentences=2,\n",
    "                        num_topics=2, feature_type='frequency',\n",
    "                        sv_threshold=0.5):\n",
    "                            \n",
    "    vec, dt_matrix = build_feature_matrix(documents, \n",
    "                                          feature_type=feature_type)\n",
    "\n",
    "    td_matrix = dt_matrix.transpose()\n",
    "    td_matrix = td_matrix.multiply(td_matrix > 0)\n",
    "\n",
    "    u, s, vt = low_rank_svd(td_matrix, singular_count=num_topics)  \n",
    "    min_sigma_value = max(s) * sv_threshold\n",
    "    s[s < min_sigma_value] = 0\n",
    "    \n",
    "    salience_scores = np.sqrt(np.dot(np.square(s), np.square(vt)))\n",
    "    top_sentence_indices = salience_scores.argsort()[-num_sentences:][::-1]\n",
    "    top_sentence_indices.sort()\n",
    "    \n",
    "    for index in top_sentence_indices:\n",
    "        print (sentences[index])"
   ]
  },
  {
   "cell_type": "markdown",
   "metadata": {},
   "source": [
    "## TEXTRANK"
   ]
  },
  {
   "cell_type": "code",
   "execution_count": 27,
   "metadata": {},
   "outputs": [
    {
     "name": "stdout",
     "output_type": "stream",
     "text": [
      "[[1.   0.19 0.05 0.08 0.07 0.15 0.09 0.1  0.03 0.05 0.   0.22 0.03]\n",
      " [0.19 1.   0.   0.07 0.   0.   0.   0.   0.   0.   0.   0.3  0.  ]\n",
      " [0.05 0.   1.   0.   0.09 0.17 0.07 0.11 0.06 0.06 0.   0.07 0.14]\n",
      " [0.08 0.07 0.   1.   0.   0.06 0.03 0.02 0.02 0.03 0.   0.09 0.  ]\n",
      " [0.07 0.   0.09 0.   1.   0.03 0.03 0.19 0.11 0.32 0.09 0.   0.  ]\n",
      " [0.15 0.   0.17 0.06 0.03 1.   0.14 0.21 0.03 0.05 0.   0.07 0.07]\n",
      " [0.09 0.   0.07 0.03 0.03 0.14 1.   0.11 0.02 0.03 0.   0.12 0.04]\n",
      " [0.1  0.   0.11 0.02 0.19 0.21 0.11 1.   0.09 0.11 0.   0.03 0.03]\n",
      " [0.03 0.   0.06 0.02 0.11 0.03 0.02 0.09 1.   0.1  0.   0.09 0.13]\n",
      " [0.05 0.   0.06 0.03 0.32 0.05 0.03 0.11 0.1  1.   0.07 0.04 0.  ]\n",
      " [0.   0.   0.   0.   0.09 0.   0.   0.   0.   0.07 1.   0.   0.1 ]\n",
      " [0.22 0.3  0.07 0.09 0.   0.07 0.12 0.03 0.09 0.04 0.   1.   0.1 ]\n",
      " [0.03 0.   0.14 0.   0.   0.07 0.04 0.03 0.13 0.   0.1  0.1  1.  ]]\n"
     ]
    }
   ],
   "source": [
    "import networkx\n",
    "\n",
    "num_sentences = 3\n",
    "vec, dt_matrix = build_feature_matrix(norm_sentences, feature_type='tfidf')\n",
    "\n",
    "similarity_matrix = (dt_matrix * dt_matrix.T)\n",
    "print (np.round(similarity_matrix.todense(), 2))\n"
   ]
  },
  {
   "cell_type": "code",
   "execution_count": 28,
   "metadata": {},
   "outputs": [
    {
     "name": "stdout",
     "output_type": "stream",
     "text": [
      "[0, 7, 11]\n",
      "The Elder Scrolls V: Skyrim is an open world action role-playing video game  developed by Bethesda Game Studios and published by Bethesda Softworks.\n",
      "Players may navigate the game world more quickly by riding horses,  or by utilizing a fast-travel system which allows them to warp to previously  Players have the option to develop their character.\n",
      "Skyrim is the first entry in The Elder Scrolls to include Dragons in the game's  wilderness.\n"
     ]
    },
    {
     "data": {
      "image/png": "[encoded data removed]",
      "text/plain": [
       "<Figure size 432x288 with 1 Axes>"
      ]
     },
     "metadata": {},
     "output_type": "display_data"
    }
   ],
   "source": [
    "\n",
    "similarity_graph = networkx.from_scipy_sparse_matrix(similarity_matrix)\n",
    "\n",
    "networkx.draw_networkx(similarity_graph)\n",
    "\n",
    "scores = networkx.pagerank(similarity_graph)\n",
    "\n",
    "ranked_sentences = sorted(((score, index) \n",
    "                            for index, score \n",
    "                            in scores.items()), \n",
    "                          reverse=True)\n",
    "ranked_sentences\n",
    "\n",
    "top_sentence_indices = [ranked_sentences[index][1] for index in range(num_sentences)]\n",
    "top_sentence_indices.sort()\n",
    "print (top_sentence_indices)\n",
    "\n",
    "for index in top_sentence_indices:\n",
    "    print (sentences[index])"
   ]
  },
  {
   "cell_type": "code",
   "execution_count": 19,
   "metadata": {},
   "outputs": [],
   "source": [
    "def textrank_text_summarizer(documents, num_sentences=2,\n",
    "                             feature_type='frequency'):\n",
    "    \n",
    "    vec, dt_matrix = build_feature_matrix(norm_sentences, \n",
    "                                      feature_type='tfidf')\n",
    "    similarity_matrix = (dt_matrix * dt_matrix.T)\n",
    "        \n",
    "    similarity_graph = networkx.from_scipy_sparse_matrix(similarity_matrix)\n",
    "    scores = networkx.pagerank(similarity_graph)   \n",
    "    \n",
    "    ranked_sentences = sorted(((score, index) \n",
    "                                for index, score \n",
    "                                in scores.items()), \n",
    "                              reverse=True)\n",
    "\n",
    "    top_sentence_indices = [ranked_sentences[index][1] \n",
    "                            for index in range(num_sentences)]\n",
    "    top_sentence_indices.sort()\n",
    "    \n",
    "    for index in top_sentence_indices:\n",
    "        print (sentences[index]   )  "
   ]
  },
  {
   "cell_type": "markdown",
   "metadata": {},
   "source": [
    "## SUMMARIZING A PRODUCT DESCRIPTION"
   ]
  },
  {
   "cell_type": "code",
   "execution_count": 20,
   "metadata": {},
   "outputs": [],
   "source": [
    "DOCUMENT = \"\"\"\n",
    "The Elder Scrolls V: Skyrim is an open world action role-playing video game \n",
    "developed by Bethesda Game Studios and published by Bethesda Softworks. \n",
    "It is the fifth installment in The Elder Scrolls series, following \n",
    "The Elder Scrolls IV: Oblivion. Skyrim's main story revolves around \n",
    "the player character and their effort to defeat Alduin the World-Eater, \n",
    "a dragon who is prophesied to destroy the world. \n",
    "The game is set two hundred years after the events of Oblivion \n",
    "and takes place in the fictional province of Skyrim. The player completes quests \n",
    "and develops the character by improving skills. \n",
    "Skyrim continues the open world tradition of its predecessors by allowing the \n",
    "player to travel anywhere in the game world at any time, and to \n",
    "ignore or postpone the main storyline indefinitely. The player may freely roam \n",
    "over the land of Skyrim, which is an open world environment consisting \n",
    "of wilderness expanses, dungeons, cities, towns, fortresses and villages. \n",
    "Players may navigate the game world more quickly by riding horses, \n",
    "or by utilizing a fast-travel system which allows them to warp to previously \n",
    "Players have the option to develop their character. At the beginning of the game, \n",
    "players create their character by selecting one of several races, \n",
    "including humans, orcs, elves and anthropomorphic cat or lizard-like creatures, \n",
    "and then customizing their character's appearance.discovered locations. Over the \n",
    "course of the game, players improve their character's skills, which are numerical \n",
    "representations of their ability in certain areas. There are eighteen skills \n",
    "divided evenly among the three schools of combat, magic, and stealth. \n",
    "Skyrim is the first entry in The Elder Scrolls to include Dragons in the game's \n",
    "wilderness. Like other creatures, Dragons are generated randomly in the world \n",
    "and will engage in combat. \n",
    "\"\"\""
   ]
  },
  {
   "cell_type": "code",
   "execution_count": 21,
   "metadata": {},
   "outputs": [
    {
     "name": "stdout",
     "output_type": "stream",
     "text": [
      "Total Sentences: 13\n"
     ]
    }
   ],
   "source": [
    "sentences = parse_document(DOCUMENT)\n",
    "norm_sentences = normalize_corpus(sentences,lemmatize=True) \n",
    "print (\"Total Sentences:\", len(norm_sentences) )"
   ]
  },
  {
   "cell_type": "code",
   "execution_count": 22,
   "metadata": {},
   "outputs": [
    {
     "name": "stdout",
     "output_type": "stream",
     "text": [
      "The Elder Scrolls V: Skyrim is an open world action role-playing video game  developed by Bethesda Game Studios and published by Bethesda Softworks.\n",
      "Players may navigate the game world more quickly by riding horses,  or by utilizing a fast-travel system which allows them to warp to previously  Players have the option to develop their character.\n",
      "At the beginning of the game,  players create their character by selecting one of several races,  including humans, orcs, elves and anthropomorphic cat or lizard-like creatures,  and then customizing their character's appearance.discovered locations.\n"
     ]
    }
   ],
   "source": [
    "lsa_text_summarizer(norm_sentences, num_sentences=3,\n",
    "                    num_topics=5, feature_type='frequency',\n",
    "                    sv_threshold=0.5)  "
   ]
  },
  {
   "cell_type": "code",
   "execution_count": 23,
   "metadata": {},
   "outputs": [
    {
     "name": "stdout",
     "output_type": "stream",
     "text": [
      "The Elder Scrolls V: Skyrim is an open world action role-playing video game  developed by Bethesda Game Studios and published by Bethesda Softworks.\n",
      "Players may navigate the game world more quickly by riding horses,  or by utilizing a fast-travel system which allows them to warp to previously  Players have the option to develop their character.\n",
      "Skyrim is the first entry in The Elder Scrolls to include Dragons in the game's  wilderness.\n"
     ]
    }
   ],
   "source": [
    "textrank_text_summarizer(norm_sentences, num_sentences=3,\n",
    "                         feature_type='tfidf')   "
   ]
  },
  {
   "cell_type": "code",
   "execution_count": null,
   "metadata": {},
   "outputs": [],
   "source": []
  }
 ],
 "metadata": {
  "kernelspec": {
   "display_name": "Python (py3)",
   "language": "python",
   "name": "py3"
  },
  "language_info": {
   "codemirror_mode": {
    "name": "ipython",
    "version": 3
   },
   "file_extension": ".py",
   "mimetype": "text/x-python",
   "name": "python",
   "nbconvert_exporter": "python",
   "pygments_lexer": "ipython3",
   "version": "3.6.7"
  }
 },
 "nbformat": 4,
 "nbformat_minor": 2
}
